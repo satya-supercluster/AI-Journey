{
 "cells": [
  {
   "cell_type": "markdown",
   "metadata": {},
   "source": [
    "### Problem 9: Select rows where a numerical column value is greater than a given threshold."
   ]
  },
  {
   "cell_type": "code",
   "execution_count": 15,
   "id": "1ea0bef7",
   "metadata": {},
   "outputs": [
    {
     "name": "stdout",
     "output_type": "stream",
     "text": [
      "[[ 0.79741696 -0.95809082  1.49014782  2.27794226]\n",
      " [ 0.19999    -1.01479874  1.41061311 -3.07074603]\n",
      " [ 0.47412449  0.44804015  0.63509089 -0.24626915]\n",
      " ...\n",
      " [ 0.26329969  0.98672203  1.32685287  1.72067098]\n",
      " [ 0.64098558 -1.19984684  0.3122557  -3.3207038 ]\n",
      " [ 0.90157009  1.83638189  2.08746142 -0.25922785]]\n"
     ]
    }
   ],
   "source": [
    "import numpy as np\n",
    "threshold = 0.1\n",
    "data = np.loadtxt(\"./dataset.csv\",delimiter=\",\",skiprows=1)\n",
    "# Taking Column 0\n",
    "# filtered_data = data[data[:, 0] > threshold]\n",
    "\n",
    "filtered_data = []\n",
    "for row in data:\n",
    "    if row[0]>threshold:\n",
    "        filtered_data.append(list(row))\n",
    "filtered_data = np.array(filtered_data)\n",
    "\n",
    "print(filtered_data)"
   ]
  }
 ],
 "metadata": {
  "kernelspec": {
   "display_name": "base",
   "language": "python",
   "name": "python3"
  },
  "language_info": {
   "codemirror_mode": {
    "name": "ipython",
    "version": 3
   },
   "file_extension": ".py",
   "mimetype": "text/x-python",
   "name": "python",
   "nbconvert_exporter": "python",
   "pygments_lexer": "ipython3",
   "version": "3.11.7"
  }
 },
 "nbformat": 4,
 "nbformat_minor": 5
}
