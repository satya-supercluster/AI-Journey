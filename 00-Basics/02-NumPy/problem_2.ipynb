{
 "cells": [
  {
   "cell_type": "markdown",
   "metadata": {},
   "source": [
    "### Problem 2: Display the first 5 rows of the NumPy array."
   ]
  },
  {
   "cell_type": "code",
   "execution_count": 5,
   "id": "13feef1d",
   "metadata": {},
   "outputs": [
    {
     "name": "stdout",
     "output_type": "stream",
     "text": [
      "[[ 0.79741696 -0.95809082  1.49014782  2.27794226]\n",
      " [ 0.02683818 -0.24417831  2.15153479 -3.39535586]\n",
      " [ 0.19999    -1.01479874  1.41061311 -3.07074603]\n",
      " [ 0.47412449  0.44804015  0.63509089 -0.24626915]\n",
      " [ 0.59851645  0.08783925  0.39210432  3.21508647]]\n"
     ]
    }
   ],
   "source": [
    "import numpy as np\n",
    "data = np.loadtxt(\"./dataset.csv\", delimiter=\",\", skiprows=1)\n",
    "print(data[0:5])"
   ]
  }
 ],
 "metadata": {
  "kernelspec": {
   "display_name": "base",
   "language": "python",
   "name": "python3"
  },
  "language_info": {
   "codemirror_mode": {
    "name": "ipython",
    "version": 3
   },
   "file_extension": ".py",
   "mimetype": "text/x-python",
   "name": "python",
   "nbconvert_exporter": "python",
   "pygments_lexer": "ipython3",
   "version": "3.11.7"
  }
 },
 "nbformat": 4,
 "nbformat_minor": 5
}
