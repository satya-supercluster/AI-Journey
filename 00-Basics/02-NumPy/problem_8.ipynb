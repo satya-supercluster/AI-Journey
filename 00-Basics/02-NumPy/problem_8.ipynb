{
 "cells": [
  {
   "cell_type": "markdown",
   "metadata": {},
   "source": [
    "### Problem 8: Sort the NumPy array based on a specific numerical column."
   ]
  },
  {
   "cell_type": "code",
   "execution_count": 4,
   "id": "fc1741a4",
   "metadata": {},
   "outputs": [
    {
     "name": "stdout",
     "output_type": "stream",
     "text": [
      "[[ 0.31716873 -3.64431605  1.22740085 -0.93427949]\n",
      " [ 0.28525646 -3.42992257  0.9294952   0.45814192]\n",
      " [ 0.17997779 -3.34256686  1.95683769  0.13634077]\n",
      " ...\n",
      " [ 0.32904719  3.0119481   0.27780782  0.39576579]\n",
      " [ 0.48150509  3.0276676   1.42395767  3.60003269]\n",
      " [ 0.37858294  3.42206188  0.09153923 -2.04599715]]\n",
      "###############################################################################\n",
      "[[ 0.37858294  3.42206188  0.09153923 -2.04599715]\n",
      " [ 0.48150509  3.0276676   1.42395767  3.60003269]\n",
      " [ 0.32904719  3.0119481   0.27780782  0.39576579]\n",
      " ...\n",
      " [ 0.17997779 -3.34256686  1.95683769  0.13634077]\n",
      " [ 0.28525646 -3.42992257  0.9294952   0.45814192]\n",
      " [ 0.31716873 -3.64431605  1.22740085 -0.93427949]]\n"
     ]
    }
   ],
   "source": [
    "import numpy as np\n",
    "data = np.loadtxt(\"./dataset.csv\",delimiter=\",\",skiprows=1)\n",
    "#Sorting by Column 1 (0 indexed)\n",
    "sorted_data = data[data[:, 1].argsort()]\n",
    "sorted_data_desc = data[data[:, 1].argsort()[::-1]]\n",
    "# Why this works\n",
    "# data[:, 1] → selects column 1\n",
    "# .argsort() → returns indices that would sort this column\n",
    "# data[...] → reorders rows using those indices\n",
    "print(sorted_data)\n",
    "print(\"###############################################################################\")\n",
    "print(sorted_data_desc)"
   ]
  }
 ],
 "metadata": {
  "kernelspec": {
   "display_name": "base",
   "language": "python",
   "name": "python3"
  },
  "language_info": {
   "codemirror_mode": {
    "name": "ipython",
    "version": 3
   },
   "file_extension": ".py",
   "mimetype": "text/x-python",
   "name": "python",
   "nbconvert_exporter": "python",
   "pygments_lexer": "ipython3",
   "version": "3.11.7"
  }
 },
 "nbformat": 4,
 "nbformat_minor": 5
}
