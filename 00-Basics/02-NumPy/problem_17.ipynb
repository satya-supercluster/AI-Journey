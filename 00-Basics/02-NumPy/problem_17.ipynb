{
 "cells": [
  {
   "cell_type": "markdown",
   "metadata": {},
   "source": [
    "### Problem 17: Create a mask for all values greater than the column median."
   ]
  },
  {
   "cell_type": "code",
   "execution_count": null,
   "id": "1f78a4b9",
   "metadata": {},
   "outputs": [
    {
     "name": "stdout",
     "output_type": "stream",
     "text": [
      "[ True False False ... False  True  True]\n"
     ]
    }
   ],
   "source": [
    "import numpy as np\n",
    "data = np.loadtxt(\"./dataset.csv\",delimiter=\",\",skiprows=1)\n",
    "median = np.median(data[:,0])\n",
    "mask = data[:,0] > median\n",
    "print(mask)"
   ]
  },
  {
   "cell_type": "code",
   "execution_count": 2,
   "id": "f0655194",
   "metadata": {},
   "outputs": [
    {
     "name": "stdout",
     "output_type": "stream",
     "text": [
      "[[ True False  True  True]\n",
      " [False False  True False]\n",
      " [False False  True False]\n",
      " ...\n",
      " [False  True  True  True]\n",
      " [ True False False False]\n",
      " [ True  True  True False]]\n"
     ]
    }
   ],
   "source": [
    "medians = np.median(data)\n",
    "masks = data > medians\n",
    "print(masks)"
   ]
  }
 ],
 "metadata": {
  "kernelspec": {
   "display_name": "base",
   "language": "python",
   "name": "python3"
  },
  "language_info": {
   "codemirror_mode": {
    "name": "ipython",
    "version": 3
   },
   "file_extension": ".py",
   "mimetype": "text/x-python",
   "name": "python",
   "nbconvert_exporter": "python",
   "pygments_lexer": "ipython3",
   "version": "3.11.7"
  }
 },
 "nbformat": 4,
 "nbformat_minor": 5
}
