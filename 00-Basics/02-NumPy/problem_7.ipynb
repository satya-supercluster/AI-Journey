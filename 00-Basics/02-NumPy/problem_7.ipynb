{
 "cells": [
  {
   "cell_type": "markdown",
   "metadata": {},
   "source": [
    "### Problem 7: Find the maximum value in each numerical column."
   ]
  },
  {
   "cell_type": "code",
   "execution_count": 3,
   "id": "b7874414",
   "metadata": {},
   "outputs": [
    {
     "name": "stdout",
     "output_type": "stream",
     "text": [
      "[array([0.79741696, 0.02683818, 0.19999   , ..., 0.26329969, 0.64098558,\n",
      "       0.90157009]), array([-0.95809082, -0.24417831, -1.01479874, ...,  0.98672203,\n",
      "       -1.19984684,  1.83638189]), array([1.49014782, 2.15153479, 1.41061311, ..., 1.32685287, 0.3122557 ,\n",
      "       2.08746142]), array([ 2.27794226, -3.39535586, -3.07074603, ...,  1.72067098,\n",
      "       -3.3207038 , -0.25922785])]\n"
     ]
    }
   ],
   "source": [
    "import numpy as np\n",
    "data = np.loadtxt(\"./dataset.csv\",delimiter=\",\",skiprows=1)\n",
    "\n",
    "# Seperate Columns\n",
    "columns = []\n",
    "for col_index in range(data.shape[1]):\n",
    "    columns.append(data[:,col_index])\n",
    "\n",
    "print(columns)"
   ]
  },
  {
   "cell_type": "code",
   "execution_count": 4,
   "id": "e2e88a3e",
   "metadata": {},
   "outputs": [
    {
     "name": "stdout",
     "output_type": "stream",
     "text": [
      "Column1: Max -> 1.497998447, Min -> -0.476438012\n",
      "Column2: Max -> 3.422061876, Min -> -3.644316049\n",
      "Column3: Max -> 8.843107603, Min -> 0.000775016\n",
      "Column4: Max -> 9.915071446, Min -> -8.516517097\n"
     ]
    }
   ],
   "source": [
    "# Max Min\n",
    "for _ in range(len(columns)):\n",
    "    print(f\"Column{_+1}: Max -> {max(columns[_])}, Min -> {min(columns[_])}\")"
   ]
  }
 ],
 "metadata": {
  "kernelspec": {
   "display_name": "base",
   "language": "python",
   "name": "python3"
  },
  "language_info": {
   "codemirror_mode": {
    "name": "ipython",
    "version": 3
   },
   "file_extension": ".py",
   "mimetype": "text/x-python",
   "name": "python",
   "nbconvert_exporter": "python",
   "pygments_lexer": "ipython3",
   "version": "3.11.7"
  }
 },
 "nbformat": 4,
 "nbformat_minor": 5
}
