{
 "cells": [
  {
   "cell_type": "markdown",
   "metadata": {},
   "source": [
    "### Problem 16: Filter rows based on multiple conditions (e.g., col1 > 50 and col2 < 100)."
   ]
  },
  {
   "cell_type": "code",
   "execution_count": 9,
   "id": "38d0eab9",
   "metadata": {},
   "outputs": [
    {
     "name": "stdout",
     "output_type": "stream",
     "text": [
      "(14, 4)\n",
      "[[ 0.77837395 -0.35047988  5.22959296 -0.95718769]\n",
      " [ 0.11430505 -0.15910325  6.36146396 -0.1593781 ]\n",
      " [ 0.96630406 -0.76705131  5.71446493  0.75862207]\n",
      " [ 0.25018253 -0.13492071  5.04695081 -0.65062303]\n",
      " [ 0.54529796 -2.49706472  7.73418245  0.30791673]\n",
      " [ 0.39520562 -0.62359331  7.66631597 -1.78937815]\n",
      " [ 0.330027   -1.03340965  5.07035158 -2.32791432]\n",
      " [ 0.35973202 -0.69661988  6.2039439   2.53211275]\n",
      " [ 0.73027356 -0.08660863  7.47962611 -1.12092248]\n",
      " [ 0.60108185 -1.22298301  6.12819829  0.09184572]\n",
      " [ 0.50893067 -1.70809564  5.1154841   0.67063811]\n",
      " [ 0.51105647 -0.46240141  5.23414851  0.94742211]\n",
      " [ 0.3841498  -0.78092702  7.45550803  0.94782679]\n",
      " [ 0.72407385 -0.46870682  5.3221227  -2.6977062 ]]\n"
     ]
    }
   ],
   "source": [
    "import numpy as np\n",
    "data = np.loadtxt(\"./dataset.csv\",delimiter=\",\",skiprows=1)\n",
    "filtered_data = data[(data[:,0]>0.1) & (data[:,1]<0) & (data[:,2]>5)]\n",
    "print(filtered_data.shape)\n",
    "print(filtered_data)"
   ]
  }
 ],
 "metadata": {
  "kernelspec": {
   "display_name": "base",
   "language": "python",
   "name": "python3"
  },
  "language_info": {
   "codemirror_mode": {
    "name": "ipython",
    "version": 3
   },
   "file_extension": ".py",
   "mimetype": "text/x-python",
   "name": "python",
   "nbconvert_exporter": "python",
   "pygments_lexer": "ipython3",
   "version": "3.11.7"
  }
 },
 "nbformat": 4,
 "nbformat_minor": 5
}
