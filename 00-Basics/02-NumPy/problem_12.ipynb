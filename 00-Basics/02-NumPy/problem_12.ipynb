{
 "cells": [
  {
   "cell_type": "markdown",
   "metadata": {},
   "source": [
    "### Problem 12: Standardize a numerical column."
   ]
  },
  {
   "cell_type": "code",
   "execution_count": 4,
   "id": "41a97cab",
   "metadata": {},
   "outputs": [
    {
     "name": "stdout",
     "output_type": "stream",
     "text": [
      "[ 0.89184724 -1.49792961 -0.96093816 ... -0.7645974   0.40671048\n",
      "  1.21485476]\n"
     ]
    }
   ],
   "source": [
    "import numpy as np\n",
    "data = np.loadtxt(\"./dataset.csv\",delimiter=\",\",skiprows=1)\n",
    "# Column 0\n",
    "col0 = data[:,0]\n",
    "mean = np.mean(col0)\n",
    "std = np.std(col0)\n",
    "standardized_col0 = (data[:,0] - mean) / std\n",
    "print(standardized_col0)"
   ]
  },
  {
   "cell_type": "code",
   "execution_count": 5,
   "id": "e9778b0a",
   "metadata": {},
   "outputs": [
    {
     "name": "stdout",
     "output_type": "stream",
     "text": [
      "[[ 0.89184724 -0.93904274  0.50094197  1.25833   ]\n",
      " [-1.49792961 -0.23264511  1.16818584 -1.84218465]\n",
      " [-0.96093816 -0.99515373  0.42070295 -1.66478211]\n",
      " ...\n",
      " [-0.7645974   0.98529837  0.33620097  0.95377562]\n",
      " [ 0.40671048 -1.17825395 -0.68738094 -1.80138655]\n",
      " [ 1.21485476  1.82601442  1.10354507 -0.12825906]]\n"
     ]
    }
   ],
   "source": [
    "# If want to standardize all columns at once\n",
    "\n",
    "means = np.mean(data, axis=0)\n",
    "stds = np.std(data, axis=0)\n",
    "\n",
    "standardized_data = (data - means) / stds\n",
    "print(standardized_data)"
   ]
  }
 ],
 "metadata": {
  "kernelspec": {
   "display_name": "base",
   "language": "python",
   "name": "python3"
  },
  "language_info": {
   "codemirror_mode": {
    "name": "ipython",
    "version": 3
   },
   "file_extension": ".py",
   "mimetype": "text/x-python",
   "name": "python",
   "nbconvert_exporter": "python",
   "pygments_lexer": "ipython3",
   "version": "3.11.7"
  }
 },
 "nbformat": 4,
 "nbformat_minor": 5
}
