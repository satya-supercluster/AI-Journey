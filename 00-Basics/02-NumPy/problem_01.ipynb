{
 "cells": [
  {
   "cell_type": "markdown",
   "metadata": {},
   "source": [
    "### Problem 1: Load the dataset into a NumPy array from a CSV file."
   ]
  },
  {
   "cell_type": "code",
   "execution_count": 2,
   "id": "badbbfdf",
   "metadata": {},
   "outputs": [
    {
     "name": "stdout",
     "output_type": "stream",
     "text": [
      "[[ 0.79741696 -0.95809082  1.49014782  2.27794226]\n",
      " [ 0.02683818 -0.24417831  2.15153479 -3.39535586]\n",
      " [ 0.19999    -1.01479874  1.41061311 -3.07074603]\n",
      " ...\n",
      " [ 0.26329969  0.98672203  1.32685287  1.72067098]\n",
      " [ 0.64098558 -1.19984684  0.3122557  -3.3207038 ]\n",
      " [ 0.90157009  1.83638189  2.08746142 -0.25922785]]\n"
     ]
    }
   ],
   "source": [
    "import numpy as np\n",
    "data = np.loadtxt(\"./dataset.csv\", delimiter=\",\", skiprows=1)\n",
    "print(data)"
   ]
  }
 ],
 "metadata": {
  "kernelspec": {
   "display_name": "base",
   "language": "python",
   "name": "python3"
  },
  "language_info": {
   "codemirror_mode": {
    "name": "ipython",
    "version": 3
   },
   "file_extension": ".py",
   "mimetype": "text/x-python",
   "name": "python",
   "nbconvert_exporter": "python",
   "pygments_lexer": "ipython3",
   "version": "3.11.7"
  }
 },
 "nbformat": 4,
 "nbformat_minor": 5
}
