{
 "cells": [
  {
   "cell_type": "code",
   "execution_count": 3,
   "id": "f736f6e2",
   "metadata": {},
   "outputs": [
    {
     "name": "stdout",
     "output_type": "stream",
     "text": [
      "[3 4 5]\n",
      "[  3 100   5]\n",
      "[  1   2   3 100   5]\n"
     ]
    }
   ],
   "source": [
    "import numpy as np\n",
    "\n",
    "arr = np.array([1,2,3,4,5])\n",
    "\n",
    "new_arr = arr[2:5]\n",
    "\n",
    "print(new_arr)      # Exactly same data points but different view\n",
    "\n",
    "new_arr[1] = 100    # Changes in arr also(referenced)\n",
    "\n",
    "print(new_arr)\n",
    "print(arr)"
   ]
  },
  {
   "cell_type": "code",
   "execution_count": null,
   "id": "04e078b3",
   "metadata": {},
   "outputs": [
    {
     "name": "stdout",
     "output_type": "stream",
     "text": [
      "[  1   2   3 100   5]\n",
      "[  1   2 100 100   5]\n",
      "[  1   2 100 100   5]\n"
     ]
    }
   ],
   "source": [
    "arr2 = arr      # Exactly same again\n",
    "print(arr2)\n",
    "\n",
    "arr2[2] = 100\n",
    "\n",
    "print(arr2)\n",
    "print(arr)"
   ]
  },
  {
   "cell_type": "code",
   "execution_count": 5,
   "id": "a303f8bd",
   "metadata": {},
   "outputs": [
    {
     "name": "stdout",
     "output_type": "stream",
     "text": [
      "[  1   2 100 100   5]\n",
      "[100   2 100 100   5]\n",
      "[  1   2 100 100   5]\n"
     ]
    }
   ],
   "source": [
    "# For Copying ->\n",
    "copy = arr.copy()\n",
    "print(copy)\n",
    "copy[0] = 100\n",
    "print(copy)\n",
    "print(arr)"
   ]
  },
  {
   "cell_type": "code",
   "execution_count": null,
   "id": "c389d4b4",
   "metadata": {},
   "outputs": [
    {
     "name": "stdout",
     "output_type": "stream",
     "text": [
      "[[1 2 3]\n",
      " [4 5 6]]\n",
      "[[  1 100   3]\n",
      " [  4   5   6]]\n",
      "[[1 2 3]\n",
      " [4 5 6]\n",
      " [7 8 9]]\n"
     ]
    }
   ],
   "source": [
    "arr = np.array([[1,2,3],[4,5,6],[7,8,9]])\n",
    "copy = arr[[0,1]]   # passing list of indexing creates copy not view\n",
    "print(copy)\n",
    "copy[(0,1)] = 100\n",
    "print(copy)\n",
    "print(arr)"
   ]
  },
  {
   "cell_type": "code",
   "execution_count": 7,
   "id": "eee9e215",
   "metadata": {},
   "outputs": [
    {
     "name": "stdout",
     "output_type": "stream",
     "text": [
      "None\n"
     ]
    }
   ],
   "source": [
    "print(arr.base)"
   ]
  },
  {
   "cell_type": "code",
   "execution_count": 8,
   "id": "9e3c2915",
   "metadata": {},
   "outputs": [
    {
     "name": "stdout",
     "output_type": "stream",
     "text": [
      "None\n"
     ]
    }
   ],
   "source": [
    "print(copy.base)"
   ]
  },
  {
   "cell_type": "code",
   "execution_count": null,
   "id": "dc24e586",
   "metadata": {},
   "outputs": [
    {
     "name": "stdout",
     "output_type": "stream",
     "text": [
      "[  1   2 100 100   5]\n"
     ]
    }
   ],
   "source": [
    "print(new_arr.base)     # Its a view"
   ]
  }
 ],
 "metadata": {
  "kernelspec": {
   "display_name": "base",
   "language": "python",
   "name": "python3"
  },
  "language_info": {
   "codemirror_mode": {
    "name": "ipython",
    "version": 3
   },
   "file_extension": ".py",
   "mimetype": "text/x-python",
   "name": "python",
   "nbconvert_exporter": "python",
   "pygments_lexer": "ipython3",
   "version": "3.11.7"
  }
 },
 "nbformat": 4,
 "nbformat_minor": 5
}
