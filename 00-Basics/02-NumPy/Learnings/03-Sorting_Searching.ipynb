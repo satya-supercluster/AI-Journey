{
 "cells": [
  {
   "cell_type": "markdown",
   "id": "cc41382b",
   "metadata": {},
   "source": [
    "### SORTING"
   ]
  },
  {
   "cell_type": "code",
   "execution_count": 8,
   "id": "f51a6eeb",
   "metadata": {},
   "outputs": [
    {
     "name": "stdout",
     "output_type": "stream",
     "text": [
      "[[5 8 9]\n",
      " [1 4 6]\n",
      " [2 3 7]]\n",
      "==========================\n",
      "[[5 9 8]\n",
      " [4 1 6]\n",
      " [7 3 2]]\n"
     ]
    }
   ],
   "source": [
    "import numpy as np\n",
    "\n",
    "a = np.array([\n",
    "    [5,9,8],\n",
    "    [4,1,6],\n",
    "    [7,3,2]\n",
    "])\n",
    "\n",
    "print(np.sort(a))\n",
    "print(\"==========================\")\n",
    "print(a)"
   ]
  },
  {
   "cell_type": "code",
   "execution_count": 9,
   "id": "8cb4b82c",
   "metadata": {},
   "outputs": [
    {
     "name": "stdout",
     "output_type": "stream",
     "text": [
      "[[5 8 9]\n",
      " [1 4 6]\n",
      " [2 3 7]]\n"
     ]
    }
   ],
   "source": [
    "a.sort()  # a = np.sort(a)\n",
    "print(a)"
   ]
  },
  {
   "cell_type": "code",
   "execution_count": 10,
   "id": "4e1f5822",
   "metadata": {},
   "outputs": [
    {
     "name": "stdout",
     "output_type": "stream",
     "text": [
      "[[5 8 9]\n",
      " [1 4 6]\n",
      " [2 3 7]]\n"
     ]
    }
   ],
   "source": [
    "print(np.sort(a,axis=1))"
   ]
  },
  {
   "cell_type": "code",
   "execution_count": 11,
   "id": "34daa432",
   "metadata": {},
   "outputs": [
    {
     "name": "stdout",
     "output_type": "stream",
     "text": [
      "[[1 3 6]\n",
      " [2 4 7]\n",
      " [5 8 9]]\n"
     ]
    }
   ],
   "source": [
    "print(np.sort(a,axis=0))"
   ]
  },
  {
   "cell_type": "code",
   "execution_count": 12,
   "id": "f5562d04",
   "metadata": {},
   "outputs": [
    {
     "name": "stdout",
     "output_type": "stream",
     "text": [
      "[[1 2 3]\n",
      " [4 5 6]\n",
      " [7 8 9]]\n"
     ]
    }
   ],
   "source": [
    "print(np.sort(a.flatten()).reshape(a.shape))"
   ]
  },
  {
   "cell_type": "markdown",
   "id": "4c608dcf",
   "metadata": {},
   "source": [
    "### SEARCHING"
   ]
  },
  {
   "cell_type": "code",
   "execution_count": null,
   "id": "84f2d261",
   "metadata": {},
   "outputs": [
    {
     "name": "stdout",
     "output_type": "stream",
     "text": [
      "2\n",
      "5\n",
      "(array([0, 1, 2, 3, 4, 6, 7], dtype=int64),)\n"
     ]
    }
   ],
   "source": [
    "outputs = np.array([0.05,0.01,0.87,0.02,0.01,0,0.03,0.01])\n",
    "print(np.argmax(outputs))   # Index of MAX\n",
    "print(np.argmin(outputs))   # Index of MIN\n",
    "print(np.nonzero(outputs))  # Indices of non zero elements"
   ]
  },
  {
   "cell_type": "code",
   "execution_count": 24,
   "id": "8db1c2de",
   "metadata": {},
   "outputs": [
    {
     "name": "stdout",
     "output_type": "stream",
     "text": [
      "[0.05 0.   0.87 0.02 0.   0.   0.03 0.  ]\n"
     ]
    }
   ],
   "source": [
    "print(np.where(outputs > 0.01, outputs, 0))     # Jaha Jaha 0.01 se bada nahi waha 0"
   ]
  }
 ],
 "metadata": {
  "kernelspec": {
   "display_name": "base",
   "language": "python",
   "name": "python3"
  },
  "language_info": {
   "codemirror_mode": {
    "name": "ipython",
    "version": 3
   },
   "file_extension": ".py",
   "mimetype": "text/x-python",
   "name": "python",
   "nbconvert_exporter": "python",
   "pygments_lexer": "ipython3",
   "version": "3.11.7"
  }
 },
 "nbformat": 4,
 "nbformat_minor": 5
}
