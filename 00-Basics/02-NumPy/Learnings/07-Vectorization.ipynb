{
 "cells": [
  {
   "cell_type": "code",
   "execution_count": 2,
   "id": "3634aec1",
   "metadata": {},
   "outputs": [],
   "source": [
    "import numpy as np\n",
    "\n",
    "arr = np.array([[1,2,3],[4,5,6],[7,8,9]])\n",
    "\n",
    "def square_if_even(x):\n",
    "    if x % 2 == 0:\n",
    "        return x**2\n",
    "    else:\n",
    "        return x\n",
    "\n",
    "# print(square_if_even(arr))\n",
    "# ValueError                                Traceback (most recent call last)\n",
    "# Cell In[1], line 11\n",
    "#       8     else:\n",
    "#       9         return x\n",
    "# ---> 11 print(square_if_even(arr))\n",
    "\n",
    "# Cell In[1], line 6\n",
    "#       5 def square_if_even(x):\n",
    "# ----> 6     if x % 2 == 0:\n",
    "#       7         return x**2\n",
    "#       8     else:\n",
    "\n",
    "# ValueError: The truth value of an array with more than one element is ambiguous. Use a.any() or a.all()"
   ]
  },
  {
   "cell_type": "code",
   "execution_count": 3,
   "id": "ee3cc66b",
   "metadata": {},
   "outputs": [
    {
     "name": "stdout",
     "output_type": "stream",
     "text": [
      "[[ 1  4  3]\n",
      " [16  5 36]\n",
      " [ 7 64  9]]\n"
     ]
    }
   ],
   "source": [
    "vectorized_square_if_even = np.vectorize(square_if_even)\n",
    "print(vectorized_square_if_even(arr))"
   ]
  },
  {
   "cell_type": "code",
   "execution_count": 5,
   "id": "d05348a3",
   "metadata": {},
   "outputs": [
    {
     "name": "stdout",
     "output_type": "stream",
     "text": [
      "[[ 30  36  42]\n",
      " [ 66  81  96]\n",
      " [102 126 150]]\n",
      "[[ 30  36  42]\n",
      " [ 66  81  96]\n",
      " [102 126 150]]\n"
     ]
    }
   ],
   "source": [
    "arr1 = np.array([[1,2,3],[4,5,6],[7,8,9]])\n",
    "arr2 = np.array([[1,2,3],[4,5,6],[7,8,9]])\n",
    "print(np.matmul(arr1,arr2))\n",
    "print(arr1 @ arr2)"
   ]
  }
 ],
 "metadata": {
  "kernelspec": {
   "display_name": "base",
   "language": "python",
   "name": "python3"
  },
  "language_info": {
   "codemirror_mode": {
    "name": "ipython",
    "version": 3
   },
   "file_extension": ".py",
   "mimetype": "text/x-python",
   "name": "python",
   "nbconvert_exporter": "python",
   "pygments_lexer": "ipython3",
   "version": "3.11.7"
  }
 },
 "nbformat": 4,
 "nbformat_minor": 5
}
