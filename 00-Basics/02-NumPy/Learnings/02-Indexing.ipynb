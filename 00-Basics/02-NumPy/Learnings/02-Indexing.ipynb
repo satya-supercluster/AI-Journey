{
 "cells": [
  {
   "cell_type": "code",
   "execution_count": 5,
   "id": "23eb4a46",
   "metadata": {},
   "outputs": [
    {
     "name": "stdout",
     "output_type": "stream",
     "text": [
      "2\n",
      "[[1 2 3]\n",
      " [4 5 6]]\n"
     ]
    }
   ],
   "source": [
    "import numpy as np\n",
    "\n",
    "a = np.array([\n",
    "    [1,2,3],\n",
    "    [4,5,6],\n",
    "    [7,8,9]\n",
    "])\n",
    "print(a[0][1])\n",
    "print(a[0:2])"
   ]
  },
  {
   "cell_type": "code",
   "execution_count": 14,
   "id": "4349a531",
   "metadata": {},
   "outputs": [
    {
     "name": "stdout",
     "output_type": "stream",
     "text": [
      "2\n",
      "==========================\n",
      "[[1 2 3]\n",
      " [7 8 9]]\n",
      "==========================\n",
      "[[4 5 6]]\n",
      "==========================\n"
     ]
    }
   ],
   "source": [
    "print(a[(0,1)])\n",
    "print(\"==========================\")\n",
    "print(a[[0,2]])\n",
    "print(\"==========================\")\n",
    "print(a[[1]])\n",
    "print(\"==========================\")\n"
   ]
  },
  {
   "cell_type": "code",
   "execution_count": null,
   "id": "83220ebd",
   "metadata": {},
   "outputs": [
    {
     "name": "stdout",
     "output_type": "stream",
     "text": [
      "[[1 2 3]\n",
      " [4 5 6]\n",
      " [7 8 9]]\n"
     ]
    }
   ],
   "source": [
    "print(a[:,:])  # Everything"
   ]
  },
  {
   "cell_type": "code",
   "execution_count": null,
   "id": "edc46030",
   "metadata": {},
   "outputs": [
    {
     "name": "stdout",
     "output_type": "stream",
     "text": [
      "[2 5 8]\n"
     ]
    }
   ],
   "source": [
    "print(a[:,1])  # Everything from row and only 2nd column"
   ]
  },
  {
   "cell_type": "code",
   "execution_count": 18,
   "id": "8cf31aee",
   "metadata": {},
   "outputs": [
    {
     "name": "stdout",
     "output_type": "stream",
     "text": [
      "[[2 3]\n",
      " [5 6]]\n"
     ]
    }
   ],
   "source": [
    "print(a[0:2,1:3])   # Rows -> 0,1   Columns -> 1,2"
   ]
  },
  {
   "cell_type": "code",
   "execution_count": 23,
   "id": "9774d798",
   "metadata": {},
   "outputs": [
    {
     "name": "stdout",
     "output_type": "stream",
     "text": [
      "[[[2]\n",
      "  [3]]\n",
      "\n",
      " [[5]\n",
      "  [6]]]\n",
      "==========================\n",
      "[4 5 6]\n",
      "[[4 5 6]]\n"
     ]
    }
   ],
   "source": [
    "print(a[0:2,1:3,np.newaxis]) \n",
    "print(\"==========================\")\n",
    "print(a[1,:]) \n",
    "print(a[np.newaxis,1,:]) "
   ]
  },
  {
   "cell_type": "code",
   "execution_count": 34,
   "id": "7b1797aa",
   "metadata": {},
   "outputs": [
    {
     "name": "stdout",
     "output_type": "stream",
     "text": [
      "[[1 2 3]\n",
      " [7 8 9]]\n",
      "==========================\n",
      "[[1 3]\n",
      " [4 6]\n",
      " [7 9]]\n",
      "==========================\n",
      "[1 6 9]\n"
     ]
    }
   ],
   "source": [
    "print(a[[0,2]])\n",
    "print(\"==========================\")\n",
    "print(a[:,[0,2]])\n",
    "print(\"==========================\")\n",
    "print(a[[0,1,2],[0,2,2]])"
   ]
  }
 ],
 "metadata": {
  "kernelspec": {
   "display_name": "base",
   "language": "python",
   "name": "python3"
  },
  "language_info": {
   "codemirror_mode": {
    "name": "ipython",
    "version": 3
   },
   "file_extension": ".py",
   "mimetype": "text/x-python",
   "name": "python",
   "nbconvert_exporter": "python",
   "pygments_lexer": "ipython3",
   "version": "3.11.7"
  }
 },
 "nbformat": 4,
 "nbformat_minor": 5
}
