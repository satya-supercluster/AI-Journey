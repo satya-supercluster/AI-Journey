{
 "cells": [
  {
   "cell_type": "code",
   "execution_count": 1,
   "id": "31de051e",
   "metadata": {},
   "outputs": [
    {
     "name": "stdout",
     "output_type": "stream",
     "text": [
      "int32\n"
     ]
    }
   ],
   "source": [
    "import numpy as np\n",
    "arr=np.array([1])\n",
    "print(arr.dtype)"
   ]
  },
  {
   "cell_type": "code",
   "execution_count": 2,
   "id": "2f8c711c",
   "metadata": {},
   "outputs": [
    {
     "name": "stdout",
     "output_type": "stream",
     "text": [
      "float64\n"
     ]
    }
   ],
   "source": [
    "arr=np.array([1,2.3])\n",
    "print(arr.dtype)"
   ]
  },
  {
   "cell_type": "code",
   "execution_count": 3,
   "id": "b4c900c1",
   "metadata": {},
   "outputs": [
    {
     "name": "stdout",
     "output_type": "stream",
     "text": [
      "<U32\n"
     ]
    }
   ],
   "source": [
    "arr=np.array([1,2.3,\"hello\"])\n",
    "print(arr.dtype)"
   ]
  },
  {
   "cell_type": "code",
   "execution_count": 4,
   "id": "9fe10e26",
   "metadata": {},
   "outputs": [
    {
     "name": "stdout",
     "output_type": "stream",
     "text": [
      "object\n"
     ]
    }
   ],
   "source": [
    "arr=np.array([1,2.3,\"hello\",{\"key\":\"value\"}])\n",
    "print(arr.dtype)"
   ]
  },
  {
   "cell_type": "code",
   "execution_count": 7,
   "id": "20ecdff2",
   "metadata": {},
   "outputs": [
    {
     "name": "stdout",
     "output_type": "stream",
     "text": [
      "int32\n",
      "<class 'numpy.int32'>\n",
      "=\n",
      "4\n"
     ]
    }
   ],
   "source": [
    "dt = np.dtype(np.int32)\n",
    "print(dt.name)\n",
    "print(dt.type)\n",
    "print(dt.byteorder)\n",
    "print(dt.itemsize)"
   ]
  },
  {
   "cell_type": "code",
   "execution_count": 8,
   "id": "8cc5cea0",
   "metadata": {},
   "outputs": [
    {
     "name": "stdout",
     "output_type": "stream",
     "text": [
      "int32\n",
      "<class 'numpy.int32'>\n",
      "=\n",
      "4\n"
     ]
    }
   ],
   "source": [
    "dt = np.dtype(\"=i4\")\n",
    "print(dt.name)\n",
    "print(dt.type)\n",
    "print(dt.byteorder)\n",
    "print(dt.itemsize)"
   ]
  },
  {
   "cell_type": "code",
   "execution_count": 10,
   "id": "6b54f575",
   "metadata": {},
   "outputs": [
    {
     "name": "stdout",
     "output_type": "stream",
     "text": [
      "str320\n",
      "<class 'numpy.str_'>\n",
      "=\n",
      "40\n"
     ]
    }
   ],
   "source": [
    "dt = np.dtype(\"U10\")\n",
    "print(dt.name)\n",
    "print(dt.type)\n",
    "print(dt.byteorder)\n",
    "print(dt.itemsize)"
   ]
  },
  {
   "cell_type": "code",
   "execution_count": 12,
   "id": "74b75997",
   "metadata": {},
   "outputs": [
    {
     "name": "stdout",
     "output_type": "stream",
     "text": [
      "['hello' 'world' 'how' 'are' 'you']\n",
      "<U5\n"
     ]
    }
   ],
   "source": [
    "arr = np.array([\"hello\",\"world\",\"how\",\"are\",\"you\"])\n",
    "print(arr)\n",
    "print(arr.dtype)"
   ]
  },
  {
   "cell_type": "code",
   "execution_count": 13,
   "id": "ca924ac8",
   "metadata": {},
   "outputs": [
    {
     "name": "stdout",
     "output_type": "stream",
     "text": [
      "['hello000000000000000' 'world' 'how' 'are' 'you']\n",
      "<U20\n"
     ]
    }
   ],
   "source": [
    "arr = np.array([\"hello000000000000000\",\"world\",\"how\",\"are\",\"you\"])\n",
    "print(arr)\n",
    "print(arr.dtype)"
   ]
  },
  {
   "cell_type": "code",
   "execution_count": null,
   "id": "17ee8cb3",
   "metadata": {},
   "outputs": [
    {
     "name": "stdout",
     "output_type": "stream",
     "text": [
      "['hello00000' 'world' 'how' 'are' 'you']\n",
      "<U10\n"
     ]
    }
   ],
   "source": [
    "arr = np.array([\"hello00000000000000000000\",\"world\",\"how\",\"are\",\"you\"],dtype = dt)  # Truncates if more than dt capacity\n",
    "print(arr)\n",
    "print(arr.dtype)"
   ]
  },
  {
   "cell_type": "code",
   "execution_count": 17,
   "id": "ea968f56",
   "metadata": {},
   "outputs": [
    {
     "name": "stdout",
     "output_type": "stream",
     "text": [
      "[(16, [[ 2.7 ,  1.3 ,  8.7 ], [ 1.1 ,  9.2 , 12.32]], 17.2)]\n",
      "[('f0', '<i4'), ('f1', '<f8', (2, 3)), ('f2', '<f4')]\n"
     ]
    }
   ],
   "source": [
    "dt = np.dtype(\"i4,(2,3)f8,f4\")\n",
    "arr = np.array([(16,np.array([[2.7,1.3,8.7],[1.1,9.2,12.32]]),17.2)],dtype = dt)\n",
    "\n",
    "print(arr)\n",
    "print(arr.dtype)"
   ]
  },
  {
   "cell_type": "code",
   "execution_count": 21,
   "id": "3c693c52",
   "metadata": {},
   "outputs": [
    {
     "name": "stdout",
     "output_type": "stream",
     "text": [
      "<U32\n",
      "[('f0', '<U5'), ('f1', '<f4')]\n",
      "object\n",
      "768\n",
      "72\n",
      "48\n"
     ]
    }
   ],
   "source": [
    "dt = np.dtype(\"U5, f4\")\n",
    "arr1 = np.array([('hello',29.1),(\"world\",32.1),(\"how\",91.4)])\n",
    "arr2 = np.array([('hello',29.1),(\"world\",32.1),(\"how\",91.4)],dtype=dt)\n",
    "arr3 = np.array([('hello',29.1),(\"world\",32.1),(\"how\",91.4)],dtype=object)\n",
    "\n",
    "print(arr1.dtype)   # converts to string \n",
    "print(arr2.dtype)\n",
    "print(arr3.dtype)\n",
    "\n",
    "print(arr1.nbytes)\n",
    "print(arr2.nbytes)\n",
    "print(arr3.nbytes)"
   ]
  }
 ],
 "metadata": {
  "kernelspec": {
   "display_name": "base",
   "language": "python",
   "name": "python3"
  },
  "language_info": {
   "codemirror_mode": {
    "name": "ipython",
    "version": 3
   },
   "file_extension": ".py",
   "mimetype": "text/x-python",
   "name": "python",
   "nbconvert_exporter": "python",
   "pygments_lexer": "ipython3",
   "version": "3.11.7"
  }
 },
 "nbformat": 4,
 "nbformat_minor": 5
}
