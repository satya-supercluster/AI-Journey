{
 "cells": [
  {
   "cell_type": "code",
   "execution_count": 1,
   "id": "c39b10a3",
   "metadata": {},
   "outputs": [
    {
     "name": "stdout",
     "output_type": "stream",
     "text": [
      "2.5\n",
      "[1.0 2.0 3.0 -- 4.0 --]\n"
     ]
    }
   ],
   "source": [
    "import numpy as np\n",
    "import numpy.ma as ma\n",
    "\n",
    "arr = np.array([1,2,3,np.nan,4,np.inf])\n",
    "masked_arr = ma.masked_array(arr, mask=[0,0,0,1,0,1])   # 1 -> Excluded\n",
    "\n",
    "print(masked_arr.mean())\n",
    "print(masked_arr)\n"
   ]
  }
 ],
 "metadata": {
  "kernelspec": {
   "display_name": "base",
   "language": "python",
   "name": "python3"
  },
  "language_info": {
   "codemirror_mode": {
    "name": "ipython",
    "version": 3
   },
   "file_extension": ".py",
   "mimetype": "text/x-python",
   "name": "python",
   "nbconvert_exporter": "python",
   "pygments_lexer": "ipython3",
   "version": "3.11.7"
  }
 },
 "nbformat": 4,
 "nbformat_minor": 5
}
