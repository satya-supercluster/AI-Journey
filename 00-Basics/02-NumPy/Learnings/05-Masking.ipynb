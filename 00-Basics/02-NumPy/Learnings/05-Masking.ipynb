{
 "cells": [
  {
   "cell_type": "code",
   "execution_count": 2,
   "id": "c39b10a3",
   "metadata": {},
   "outputs": [
    {
     "name": "stdout",
     "output_type": "stream",
     "text": [
      "2.5\n",
      "[1.0 2.0 3.0 -- 4.0 --]\n"
     ]
    }
   ],
   "source": [
    "import numpy as np\n",
    "import numpy.ma as ma\n",
    "\n",
    "arr = np.array([1,2,3,np.nan,4,np.inf])\n",
    "masked_arr = ma.masked_array(arr, mask=[0,0,0,1,0,1])   # 1 -> Excluded\n",
    "\n",
    "print(masked_arr.mean())\n",
    "print(masked_arr)\n"
   ]
  },
  {
   "cell_type": "code",
   "execution_count": null,
   "id": "dc01407b",
   "metadata": {},
   "outputs": [
    {
     "name": "stdout",
     "output_type": "stream",
     "text": [
      "[1.0 2.0 3.0 nan -- --]\n"
     ]
    }
   ],
   "source": [
    "print(ma.masked_greater(arr,3))     # Greater than 3 are masked"
   ]
  },
  {
   "cell_type": "code",
   "execution_count": 9,
   "id": "d34de8ce",
   "metadata": {},
   "outputs": [
    {
     "name": "stdout",
     "output_type": "stream",
     "text": [
      "[1.0 -- -- nan -- inf]\n",
      "[-- 2.0 3.0 nan 4.0 --]\n"
     ]
    }
   ],
   "source": [
    "print(ma.masked_inside(arr,2,4))     # values inside [2,4] range are masked\n",
    "print(ma.masked_outside(arr,2,4))     # values outside [2,4] range are masked"
   ]
  },
  {
   "cell_type": "code",
   "execution_count": 10,
   "id": "46ba1cef",
   "metadata": {},
   "outputs": [
    {
     "name": "stdout",
     "output_type": "stream",
     "text": [
      "[False False False  True False  True]\n"
     ]
    }
   ],
   "source": [
    "print(ma.getmask(masked_arr))"
   ]
  },
  {
   "cell_type": "code",
   "execution_count": 11,
   "id": "b5c02736",
   "metadata": {},
   "outputs": [
    {
     "name": "stdout",
     "output_type": "stream",
     "text": [
      "[1.0 2.0 3.0 -- 4.0 --]\n"
     ]
    }
   ],
   "source": [
    "print(ma.masked_invalid(arr))"
   ]
  }
 ],
 "metadata": {
  "kernelspec": {
   "display_name": "base",
   "language": "python",
   "name": "python3"
  },
  "language_info": {
   "codemirror_mode": {
    "name": "ipython",
    "version": 3
   },
   "file_extension": ".py",
   "mimetype": "text/x-python",
   "name": "python",
   "nbconvert_exporter": "python",
   "pygments_lexer": "ipython3",
   "version": "3.11.7"
  }
 },
 "nbformat": 4,
 "nbformat_minor": 5
}
