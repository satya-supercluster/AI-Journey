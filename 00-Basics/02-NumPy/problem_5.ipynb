{
 "cells": [
  {
   "cell_type": "markdown",
   "metadata": {},
   "source": [
    "### Problem 5: Find the mean of a specific numerical column."
   ]
  },
  {
   "cell_type": "code",
   "execution_count": 14,
   "id": "090460e9",
   "metadata": {},
   "outputs": [
    {
     "name": "stdout",
     "output_type": "stream",
     "text": [
      "Mean:  0.509842598285\n"
     ]
    }
   ],
   "source": [
    "import numpy as np\n",
    "data = np.loadtxt(\"./dataset.csv\",delimiter=\",\",skiprows=1)\n",
    "col1 = data[:,0]\n",
    "print(\"Mean: \",col1.mean())"
   ]
  },
  {
   "cell_type": "code",
   "execution_count": 16,
   "id": "504c3162",
   "metadata": {},
   "outputs": [
    {
     "name": "stdout",
     "output_type": "stream",
     "text": [
      "Sum:  2549.212991425\n",
      "Mean:  0.509842598285\n"
     ]
    }
   ],
   "source": [
    "sum = col1.sum()\n",
    "print(\"Sum: \",sum)\n",
    "mean = sum / col1.size\n",
    "print(\"Mean: \",mean)"
   ]
  }
 ],
 "metadata": {
  "kernelspec": {
   "display_name": "base",
   "language": "python",
   "name": "python3"
  },
  "language_info": {
   "codemirror_mode": {
    "name": "ipython",
    "version": 3
   },
   "file_extension": ".py",
   "mimetype": "text/x-python",
   "name": "python",
   "nbconvert_exporter": "python",
   "pygments_lexer": "ipython3",
   "version": "3.11.7"
  }
 },
 "nbformat": 4,
 "nbformat_minor": 5
}
