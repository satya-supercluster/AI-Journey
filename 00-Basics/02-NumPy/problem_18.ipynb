{
 "cells": [
  {
   "cell_type": "markdown",
   "metadata": {},
   "source": [
    "### Problem 18: Calculate the correlation matrix for all numerical columns."
   ]
  },
  {
   "cell_type": "code",
   "execution_count": 1,
   "id": "893b69c0",
   "metadata": {},
   "outputs": [
    {
     "name": "stdout",
     "output_type": "stream",
     "text": [
      "[[ 1.         -0.31227768 -0.19332074 ...  0.50236654 -0.29702462\n",
      "  -0.59903986]\n",
      " [-0.31227768  1.          0.97716758 ... -0.38938774  0.88382287\n",
      "   0.90624286]\n",
      " [-0.19332074  0.97716758  1.         ... -0.48000218  0.94369394\n",
      "   0.80024862]\n",
      " ...\n",
      " [ 0.50236654 -0.38938774 -0.48000218 ...  1.         -0.74054756\n",
      "  -0.26988965]\n",
      " [-0.29702462  0.88382287  0.94369394 ... -0.74054756  1.\n",
      "   0.68642058]\n",
      " [-0.59903986  0.90624286  0.80024862 ... -0.26988965  0.68642058\n",
      "   1.        ]]\n"
     ]
    }
   ],
   "source": [
    "import numpy as np\n",
    "data = np.loadtxt(\"./dataset.csv\",delimiter=\",\",skiprows=1)\n",
    "correlation_matrix = np.corrcoef(data)\n",
    "print(correlation_matrix)"
   ]
  }
 ],
 "metadata": {
  "kernelspec": {
   "display_name": "base",
   "language": "python",
   "name": "python3"
  },
  "language_info": {
   "codemirror_mode": {
    "name": "ipython",
    "version": 3
   },
   "file_extension": ".py",
   "mimetype": "text/x-python",
   "name": "python",
   "nbconvert_exporter": "python",
   "pygments_lexer": "ipython3",
   "version": "3.11.7"
  }
 },
 "nbformat": 4,
 "nbformat_minor": 5
}
