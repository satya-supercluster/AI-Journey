{
 "cells": [
  {
   "cell_type": "markdown",
   "metadata": {},
   "source": [
    "### Problem 10: Count the number of NaN values in each column."
   ]
  },
  {
   "cell_type": "code",
   "execution_count": 3,
   "id": "5eead47f",
   "metadata": {},
   "outputs": [
    {
     "name": "stdout",
     "output_type": "stream",
     "text": [
      "[2704, 0, 0, 1868, 2032, 1984, 0, 101, 0, 2836, 0, 0, 0, 0, 0, 2006, 0, 0, 295, 1733]\n"
     ]
    }
   ],
   "source": [
    "import pandas as pd\n",
    "import numpy as np\n",
    "# from collections import Counter\n",
    "df = pd.read_csv(\"./catagorical_dataset.csv\",na_values=[\"\"])\n",
    "nanCounts = []\n",
    "for column in df.columns:\n",
    "    # counts = Counter(df[column])\n",
    "    # nanCounts.append(counts[np.nan])\n",
    "    count = df[column].isna().sum()\n",
    "    nanCounts.append(count)\n",
    "print(nanCounts)\n"
   ]
  }
 ],
 "metadata": {
  "kernelspec": {
   "display_name": "base",
   "language": "python",
   "name": "python3"
  },
  "language_info": {
   "codemirror_mode": {
    "name": "ipython",
    "version": 3
   },
   "file_extension": ".py",
   "mimetype": "text/x-python",
   "name": "python",
   "nbconvert_exporter": "python",
   "pygments_lexer": "ipython3",
   "version": "3.11.7"
  }
 },
 "nbformat": 4,
 "nbformat_minor": 5
}
