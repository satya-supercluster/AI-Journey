{
 "cells": [
  {
   "cell_type": "markdown",
   "metadata": {},
   "source": [
    "### Problem 20: Split the NumPy array into training (80%) and testing (20%) datasets."
   ]
  },
  {
   "cell_type": "code",
   "execution_count": 3,
   "id": "5caccf39",
   "metadata": {},
   "outputs": [
    {
     "name": "stdout",
     "output_type": "stream",
     "text": [
      "Train shape: (4000, 4)\n",
      "Test shape: (1000, 4)\n"
     ]
    }
   ],
   "source": [
    "import numpy as np\n",
    "data = np.loadtxt(\"./dataset.csv\",delimiter=\",\",skiprows=1)\n",
    "np.random.shuffle(data)\n",
    "split_index=int(0.8*len(data))\n",
    "training_data = data[:split_index]\n",
    "testing_data = data[split_index:]\n",
    "\n",
    "print(\"Train shape:\", training_data.shape)\n",
    "print(\"Test shape:\", testing_data.shape)"
   ]
  }
 ],
 "metadata": {
  "kernelspec": {
   "display_name": "base",
   "language": "python",
   "name": "python3"
  },
  "language_info": {
   "codemirror_mode": {
    "name": "ipython",
    "version": 3
   },
   "file_extension": ".py",
   "mimetype": "text/x-python",
   "name": "python",
   "nbconvert_exporter": "python",
   "pygments_lexer": "ipython3",
   "version": "3.11.7"
  }
 },
 "nbformat": 4,
 "nbformat_minor": 5
}
