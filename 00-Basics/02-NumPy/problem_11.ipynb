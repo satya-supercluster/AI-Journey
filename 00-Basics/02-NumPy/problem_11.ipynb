{
 "cells": [
  {
   "cell_type": "markdown",
   "metadata": {},
   "source": [
    "### Problem 11: Normalize a numerical column to have values between 0 and 1."
   ]
  },
  {
   "cell_type": "code",
   "execution_count": null,
   "id": "bbc8bb85",
   "metadata": {},
   "outputs": [
    {
     "name": "stdout",
     "output_type": "stream",
     "text": [
      "[[ 0.35482605 -0.95809082  1.49014782  2.27794226]\n",
      " [ 0.74510388 -0.24417831  2.15153479 -3.39535586]\n",
      " [ 0.65740705 -1.01479874  1.41061311 -3.07074603]\n",
      " ...\n",
      " [ 0.62534236  0.98672203  1.32685287  1.72067098]\n",
      " [ 0.43405442 -1.19984684  0.3122557  -3.3207038 ]\n",
      " [ 0.30207523  1.83638189  2.08746142 -0.25922785]]\n"
     ]
    }
   ],
   "source": [
    "import numpy as np\n",
    "data = np.loadtxt(\"./dataset.csv\",delimiter=\",\",skiprows=1)\n",
    "# Column 0\n",
    "# col0 = data[:,0]\n",
    "# mx = max(col0)\n",
    "# mn = min(col0)\n",
    "# for i in range(data.shape[0]):\n",
    "#     data[i:i+1,0:1] = (mx-data[i:i+1,0:1])/(mx-mn)\n",
    "\n",
    "# Column 0\n",
    "col0 = data[:, 0]\n",
    "mx = np.max(col0)\n",
    "mn = np.min(col0)\n",
    "\n",
    "# Normalize column 0: (mx - value) / (mx - mn)\n",
    "data[:, 0] = (mx - col0) / (mx - mn)\n",
    "print(data)\n"
   ]
  }
 ],
 "metadata": {
  "kernelspec": {
   "display_name": "base",
   "language": "python",
   "name": "python3"
  },
  "language_info": {
   "codemirror_mode": {
    "name": "ipython",
    "version": 3
   },
   "file_extension": ".py",
   "mimetype": "text/x-python",
   "name": "python",
   "nbconvert_exporter": "python",
   "pygments_lexer": "ipython3",
   "version": "3.11.7"
  }
 },
 "nbformat": 4,
 "nbformat_minor": 5
}
