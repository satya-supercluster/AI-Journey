{
 "cells": [
  {
   "cell_type": "markdown",
   "metadata": {},
   "source": [
    "### Problem 4: Select all values from the first column."
   ]
  },
  {
   "cell_type": "code",
   "execution_count": 4,
   "id": "7aa18a46",
   "metadata": {},
   "outputs": [
    {
     "name": "stdout",
     "output_type": "stream",
     "text": [
      "[0.79741696 0.02683818 0.19999    ... 0.26329969 0.64098558 0.90157009]\n"
     ]
    }
   ],
   "source": [
    "import numpy as np\n",
    "data = np.loadtxt(\"./dataset.csv\", delimiter=\",\", skiprows=1)\n",
    "firstColumnSlice = data[:,0]\n",
    "# How Slice Work?\n",
    "# data = np.array([\n",
    "#     [10, 20, 30],\n",
    "#     [40, 50, 60],\n",
    "#     [70, 80, 90]\n",
    "# ])\n",
    "# print(data[0, :])   # Row 0, all columns → [10 20 30]\n",
    "# print(data[:, 0])   # All rows, column 0 → [10 40 70]\n",
    "# print(data[0:2, 1:3]) # Rows 0–1, columns 1–2 → [[20 30]\n",
    "#                      #                           [50 60]]\n",
    "print(firstColumnSlice)"
   ]
  }
 ],
 "metadata": {
  "kernelspec": {
   "display_name": "base",
   "language": "python",
   "name": "python3"
  },
  "language_info": {
   "codemirror_mode": {
    "name": "ipython",
    "version": 3
   },
   "file_extension": ".py",
   "mimetype": "text/x-python",
   "name": "python",
   "nbconvert_exporter": "python",
   "pygments_lexer": "ipython3",
   "version": "3.11.7"
  }
 },
 "nbformat": 4,
 "nbformat_minor": 5
}
