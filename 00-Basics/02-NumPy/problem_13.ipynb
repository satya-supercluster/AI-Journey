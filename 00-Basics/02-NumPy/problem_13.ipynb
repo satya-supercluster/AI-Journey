{
 "cells": [
  {
   "cell_type": "markdown",
   "metadata": {},
   "source": [
    "### Problem 13: Replace categorical noise in a column with the most frequent category."
   ]
  },
  {
   "cell_type": "code",
   "execution_count": 20,
   "id": "fa1e19ff",
   "metadata": {},
   "outputs": [
    {
     "name": "stdout",
     "output_type": "stream",
     "text": [
      "Feature18\n",
      "Yes      3967\n",
      "No       1032\n",
      "Noise       1\n",
      "Name: count, dtype: int64\n",
      "      Feature1  Feature2  Feature3 Feature4  Feature5  Feature6  Feature7  \\\n",
      "0         44.0  0.797417 -0.958091      NaN       NaN     158.0  1.490148   \n",
      "1         47.0  0.026838 -0.244178        D       NaN       NaN  2.151535   \n",
      "2         64.0  0.199990 -1.014799        B       0.0     474.0  1.410613   \n",
      "3         67.0  0.474124  0.448040        B       NaN     166.0  0.635091   \n",
      "4          NaN  0.598516  0.087839      NaN       0.0       NaN  0.392104   \n",
      "...        ...       ...       ...      ...       ...       ...       ...   \n",
      "4995       NaN  0.819440  0.415931        C       0.0       NaN  1.765590   \n",
      "4996       NaN  0.032140 -1.445420        C       1.0       NaN  0.806246   \n",
      "4997      92.0  0.263300  0.986722        C       NaN      78.0  1.326853   \n",
      "4998      91.0  0.640986 -1.199847        A       0.0      51.0  0.312256   \n",
      "4999       NaN  0.901570  1.836382      NaN       0.0       NaN  2.087461   \n",
      "\n",
      "      Feature8  Feature9  Feature10  Feature11 Feature12  Feature13  \\\n",
      "0     5.166124  2.277942        NaN          5         X          1   \n",
      "1     0.450312 -3.395356        NaN          3         X          0   \n",
      "2     6.786555 -3.070746        NaN          7         Z          0   \n",
      "3     1.937158 -0.246269   6.004975         20         X          0   \n",
      "4     4.010937  3.215086   2.891199          3         Z          0   \n",
      "...        ...       ...        ...        ...       ...        ...   \n",
      "4995  1.929735 -1.951884        NaN          1         Z          1   \n",
      "4996  8.765315 -1.866815        NaN          1         Y          0   \n",
      "4997  4.489722  1.720671   6.877962          1         X          0   \n",
      "4998  2.773963 -3.320704   6.138322          2         X          0   \n",
      "4999  6.854886 -0.259228   6.068139          6         X          0   \n",
      "\n",
      "      Feature14 Feature15  Feature16  Feature17 Feature18 Feature19  \\\n",
      "0     Category1   Option4   8.824345  11.711130       Yes       Low   \n",
      "1     Category1   Option2        NaN  13.355832       Yes       Low   \n",
      "2     Category1   Option2        NaN  13.449484       Yes    Medium   \n",
      "3     Category1   Option2        NaN   7.687652       Yes       Low   \n",
      "4     Category1   Option3  11.259371   6.807770       Yes       Low   \n",
      "...         ...       ...        ...        ...       ...       ...   \n",
      "4995  Category2   Option4        NaN  14.821501        No       Low   \n",
      "4996  Category3   Option4   6.368173   5.308922       Yes    Medium   \n",
      "4997  Category1   Option4   5.682022   9.508951       Yes    Medium   \n",
      "4998  Category1   Option3   4.574748   8.705127        No    Medium   \n",
      "4999  Category2   Option2  12.801075  14.686372       Yes      High   \n",
      "\n",
      "       Feature20  \n",
      "0            NaN  \n",
      "1            cat  \n",
      "2            dog  \n",
      "3            cat  \n",
      "4            cat  \n",
      "...          ...  \n",
      "4995         NaN  \n",
      "4996         NaN  \n",
      "4997         NaN  \n",
      "4998  some other  \n",
      "4999  some other  \n",
      "\n",
      "[5000 rows x 20 columns]\n"
     ]
    }
   ],
   "source": [
    "import pandas as pd\n",
    "import numpy as np\n",
    "df = pd.read_csv(\"./catagorical_dataset.csv\",na_values=[\"\"])\n",
    "\n",
    "threshold = 2  # categories appearing less than this count are considered noise\n",
    "counts = df[df.columns[17]].value_counts()\n",
    "print(counts)\n",
    "most_frequent = counts.idxmax()\n",
    "# print(most_frequent)\n",
    "noise_categories = counts[counts < threshold].index\n",
    "# print(noise_categories)\n",
    "df[df.columns[17]].replace(noise_categories, most_frequent,inplace=True)\n",
    "print(df)"
   ]
  }
 ],
 "metadata": {
  "kernelspec": {
   "display_name": "base",
   "language": "python",
   "name": "python3"
  },
  "language_info": {
   "codemirror_mode": {
    "name": "ipython",
    "version": 3
   },
   "file_extension": ".py",
   "mimetype": "text/x-python",
   "name": "python",
   "nbconvert_exporter": "python",
   "pygments_lexer": "ipython3",
   "version": "3.11.7"
  }
 },
 "nbformat": 4,
 "nbformat_minor": 5
}
