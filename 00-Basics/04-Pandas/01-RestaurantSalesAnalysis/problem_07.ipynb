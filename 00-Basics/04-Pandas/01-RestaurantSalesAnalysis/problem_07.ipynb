{
 "cells": [
  {
   "cell_type": "markdown",
   "id": "c48ee0c5",
   "metadata": {},
   "source": [
    "### Problem 7: Select all orders made in 'Delhi' city."
   ]
  },
  {
   "cell_type": "code",
   "execution_count": null,
   "id": "35d7a876",
   "metadata": {},
   "outputs": [],
   "source": [
    "## Write your code here"
   ]
  }
 ],
 "metadata": {},
 "nbformat": 4,
 "nbformat_minor": 5
}
