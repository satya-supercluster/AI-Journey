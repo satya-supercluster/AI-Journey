{
 "cells": [
  {
   "cell_type": "markdown",
   "id": "225f0a57",
   "metadata": {},
   "source": [
    "### Problem 19: Count how many orders were paid with each payment method."
   ]
  },
  {
   "cell_type": "code",
   "execution_count": null,
   "id": "104bef16",
   "metadata": {},
   "outputs": [],
   "source": [
    "## Write your code here"
   ]
  }
 ],
 "metadata": {},
 "nbformat": 4,
 "nbformat_minor": 5
}
