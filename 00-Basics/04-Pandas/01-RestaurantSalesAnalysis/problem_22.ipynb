{
 "cells": [
  {
   "cell_type": "markdown",
   "id": "449ee333",
   "metadata": {},
   "source": [
    "### Problem 22: Find the day with the highest sales revenue."
   ]
  },
  {
   "cell_type": "code",
   "execution_count": null,
   "id": "0570984a",
   "metadata": {},
   "outputs": [],
   "source": [
    "## Write your code here"
   ]
  }
 ],
 "metadata": {},
 "nbformat": 4,
 "nbformat_minor": 5
}
