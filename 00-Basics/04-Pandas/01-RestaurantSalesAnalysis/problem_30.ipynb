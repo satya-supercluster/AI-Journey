{
 "cells": [
  {
   "cell_type": "markdown",
   "id": "f913eced",
   "metadata": {},
   "source": [
    "### Problem 30: Determine the city with the largest average order size (in quantity)."
   ]
  },
  {
   "cell_type": "code",
   "execution_count": null,
   "id": "6e8bd736",
   "metadata": {},
   "outputs": [],
   "source": [
    "## Write your code here"
   ]
  }
 ],
 "metadata": {},
 "nbformat": 4,
 "nbformat_minor": 5
}
