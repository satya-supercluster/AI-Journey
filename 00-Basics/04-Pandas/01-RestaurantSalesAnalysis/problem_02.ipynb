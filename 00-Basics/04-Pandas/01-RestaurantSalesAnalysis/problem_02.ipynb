{
 "cells": [
  {
   "cell_type": "markdown",
   "id": "a746db1d",
   "metadata": {},
   "source": [
    "### Problem 2: Check the data types of all columns."
   ]
  },
  {
   "cell_type": "code",
   "execution_count": null,
   "id": "e36f6b6a",
   "metadata": {},
   "outputs": [],
   "source": [
    "## Write your code here"
   ]
  }
 ],
 "metadata": {},
 "nbformat": 4,
 "nbformat_minor": 5
}
