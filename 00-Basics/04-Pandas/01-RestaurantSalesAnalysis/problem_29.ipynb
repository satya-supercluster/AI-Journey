{
 "cells": [
  {
   "cell_type": "markdown",
   "id": "2b4ba6af",
   "metadata": {},
   "source": [
    "### Problem 29: Find all orders placed on weekends."
   ]
  },
  {
   "cell_type": "code",
   "execution_count": null,
   "id": "6db6d8f7",
   "metadata": {},
   "outputs": [],
   "source": [
    "## Write your code here"
   ]
  }
 ],
 "metadata": {},
 "nbformat": 4,
 "nbformat_minor": 5
}
