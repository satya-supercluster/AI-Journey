{
 "cells": [
  {
   "cell_type": "markdown",
   "id": "60fc9302",
   "metadata": {},
   "source": [
    "### Problem 49: Build a product ranking per month and identify products that improved their rank significantly."
   ]
  },
  {
   "cell_type": "code",
   "execution_count": null,
   "id": "2920e1f7",
   "metadata": {},
   "outputs": [],
   "source": [
    "## Write your code here"
   ]
  }
 ],
 "metadata": {},
 "nbformat": 4,
 "nbformat_minor": 5
}
