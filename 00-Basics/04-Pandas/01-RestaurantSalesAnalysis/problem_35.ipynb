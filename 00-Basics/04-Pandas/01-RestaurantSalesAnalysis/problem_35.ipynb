{
 "cells": [
  {
   "cell_type": "markdown",
   "id": "35295737",
   "metadata": {},
   "source": [
    "### Problem 35: Calculate cumulative monthly sales revenue over time."
   ]
  },
  {
   "cell_type": "code",
   "execution_count": null,
   "id": "2b086ded",
   "metadata": {},
   "outputs": [],
   "source": [
    "## Write your code here"
   ]
  }
 ],
 "metadata": {},
 "nbformat": 4,
 "nbformat_minor": 5
}
