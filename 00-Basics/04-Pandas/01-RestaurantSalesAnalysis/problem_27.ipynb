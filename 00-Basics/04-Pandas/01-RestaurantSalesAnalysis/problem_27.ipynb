{
 "cells": [
  {
   "cell_type": "markdown",
   "id": "64f61b77",
   "metadata": {},
   "source": [
    "### Problem 27: Find the top 5 days with the highest quantity sold for Pizza."
   ]
  },
  {
   "cell_type": "code",
   "execution_count": null,
   "id": "2e0f094d",
   "metadata": {},
   "outputs": [],
   "source": [
    "## Write your code here"
   ]
  }
 ],
 "metadata": {},
 "nbformat": 4,
 "nbformat_minor": 5
}
