{
 "cells": [
  {
   "cell_type": "markdown",
   "id": "b9d77e11",
   "metadata": {},
   "source": [
    "### Problem 40: Identify if any products have a strong seasonality (e.g., spike in certain months)."
   ]
  },
  {
   "cell_type": "code",
   "execution_count": null,
   "id": "e3468c83",
   "metadata": {},
   "outputs": [],
   "source": [
    "## Write your code here"
   ]
  }
 ],
 "metadata": {},
 "nbformat": 4,
 "nbformat_minor": 5
}
