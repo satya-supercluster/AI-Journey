{
 "cells": [
  {
   "cell_type": "markdown",
   "id": "a9906b58",
   "metadata": {},
   "source": [
    "### Problem 48: Determine which payment method is most preferred for high-value orders (> ₹2000 total price)."
   ]
  },
  {
   "cell_type": "code",
   "execution_count": null,
   "id": "66face77",
   "metadata": {},
   "outputs": [],
   "source": [
    "## Write your code here"
   ]
  }
 ],
 "metadata": {},
 "nbformat": 4,
 "nbformat_minor": 5
}
