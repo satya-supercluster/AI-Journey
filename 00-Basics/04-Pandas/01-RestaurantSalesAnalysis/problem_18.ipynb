{
 "cells": [
  {
   "cell_type": "markdown",
   "id": "28b558c6",
   "metadata": {},
   "source": [
    "### Problem 18: Show the total revenue by purchase type (online, in-store, drive-thru)."
   ]
  },
  {
   "cell_type": "code",
   "execution_count": null,
   "id": "6b377780",
   "metadata": {},
   "outputs": [],
   "source": [
    "## Write your code here"
   ]
  }
 ],
 "metadata": {},
 "nbformat": 4,
 "nbformat_minor": 5
}
