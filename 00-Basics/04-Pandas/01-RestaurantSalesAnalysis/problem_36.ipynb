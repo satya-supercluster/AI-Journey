{
 "cells": [
  {
   "cell_type": "markdown",
   "id": "64644a76",
   "metadata": {},
   "source": [
    "### Problem 36: Find the top 5 most profitable days for each manager."
   ]
  },
  {
   "cell_type": "code",
   "execution_count": null,
   "id": "1d354b20",
   "metadata": {},
   "outputs": [],
   "source": [
    "## Write your code here"
   ]
  }
 ],
 "metadata": {},
 "nbformat": 4,
 "nbformat_minor": 5
}
