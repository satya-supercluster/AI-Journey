{
 "cells": [
  {
   "cell_type": "markdown",
   "id": "41a753ed",
   "metadata": {},
   "source": [
    "### Problem 31: Create a pivot table showing total revenue for each (City × Product) combination."
   ]
  },
  {
   "cell_type": "code",
   "execution_count": null,
   "id": "1749a066",
   "metadata": {},
   "outputs": [],
   "source": [
    "## Write your code here"
   ]
  }
 ],
 "metadata": {},
 "nbformat": 4,
 "nbformat_minor": 5
}
