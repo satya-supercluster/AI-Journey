{
 "cells": [
  {
   "cell_type": "markdown",
   "id": "874596ff",
   "metadata": {},
   "source": [
    "### Problem 5: Find the top 5 most expensive products by unit price."
   ]
  },
  {
   "cell_type": "code",
   "execution_count": null,
   "id": "e1d86684",
   "metadata": {},
   "outputs": [],
   "source": [
    "## Write your code here"
   ]
  }
 ],
 "metadata": {},
 "nbformat": 4,
 "nbformat_minor": 5
}
