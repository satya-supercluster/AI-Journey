{
 "cells": [
  {
   "cell_type": "markdown",
   "id": "744c3c81",
   "metadata": {},
   "source": [
    "### Problem 25: For each city, find the most used payment method."
   ]
  },
  {
   "cell_type": "code",
   "execution_count": null,
   "id": "8b3dbaca",
   "metadata": {},
   "outputs": [],
   "source": [
    "## Write your code here"
   ]
  }
 ],
 "metadata": {},
 "nbformat": 4,
 "nbformat_minor": 5
}
