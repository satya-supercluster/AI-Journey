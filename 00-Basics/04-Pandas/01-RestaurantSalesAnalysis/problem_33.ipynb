{
 "cells": [
  {
   "cell_type": "markdown",
   "id": "f48d8717",
   "metadata": {},
   "source": [
    "### Problem 33: For each city, find the manager who generated the highest revenue."
   ]
  },
  {
   "cell_type": "code",
   "execution_count": null,
   "id": "3103cdd5",
   "metadata": {},
   "outputs": [],
   "source": [
    "## Write your code here"
   ]
  }
 ],
 "metadata": {},
 "nbformat": 4,
 "nbformat_minor": 5
}
