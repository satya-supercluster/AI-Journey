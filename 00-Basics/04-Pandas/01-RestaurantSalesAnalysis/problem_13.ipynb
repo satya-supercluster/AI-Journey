{
 "cells": [
  {
   "cell_type": "markdown",
   "id": "b8a200ea",
   "metadata": {},
   "source": [
    "### Problem 13: Group sales by city and show the total quantity ordered per city."
   ]
  },
  {
   "cell_type": "code",
   "execution_count": null,
   "id": "3f726ef1",
   "metadata": {},
   "outputs": [],
   "source": [
    "## Write your code here"
   ]
  }
 ],
 "metadata": {},
 "nbformat": 4,
 "nbformat_minor": 5
}
