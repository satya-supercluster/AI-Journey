{
 "cells": [
  {
   "cell_type": "markdown",
   "id": "73b8d4ca",
   "metadata": {},
   "source": [
    "### Problem 44: Detect which manager’s sales are most affected by weekends (compare weekday vs weekend sales)."
   ]
  },
  {
   "cell_type": "code",
   "execution_count": null,
   "id": "4983eca9",
   "metadata": {},
   "outputs": [],
   "source": [
    "## Write your code here"
   ]
  }
 ],
 "metadata": {},
 "nbformat": 4,
 "nbformat_minor": 5
}
