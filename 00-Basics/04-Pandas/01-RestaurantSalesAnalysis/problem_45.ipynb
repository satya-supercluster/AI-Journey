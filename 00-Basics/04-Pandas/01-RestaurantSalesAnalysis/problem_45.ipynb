{
 "cells": [
  {
   "cell_type": "markdown",
   "id": "0ecfead5",
   "metadata": {},
   "source": [
    "### Problem 45: Calculate the average days between orders for each city."
   ]
  },
  {
   "cell_type": "code",
   "execution_count": null,
   "id": "d41fa8dd",
   "metadata": {},
   "outputs": [],
   "source": [
    "## Write your code here"
   ]
  }
 ],
 "metadata": {},
 "nbformat": 4,
 "nbformat_minor": 5
}
