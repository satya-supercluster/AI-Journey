{
 "cells": [
  {
   "cell_type": "markdown",
   "id": "77c5cca9",
   "metadata": {},
   "source": [
    "### Problem 1: Display the first 10 rows of the dataset."
   ]
  },
  {
   "cell_type": "code",
   "execution_count": null,
   "id": "b6fec7ca",
   "metadata": {},
   "outputs": [],
   "source": [
    "## Write your code here"
   ]
  }
 ],
 "metadata": {},
 "nbformat": 4,
 "nbformat_minor": 5
}
