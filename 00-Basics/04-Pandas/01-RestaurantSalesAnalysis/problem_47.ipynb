{
 "cells": [
  {
   "cell_type": "markdown",
   "id": "e0651a1a",
   "metadata": {},
   "source": [
    "### Problem 47: Create a heatmap table showing sales by day of week × purchase type."
   ]
  },
  {
   "cell_type": "code",
   "execution_count": null,
   "id": "1d0f855e",
   "metadata": {},
   "outputs": [],
   "source": [
    "## Write your code here"
   ]
  }
 ],
 "metadata": {},
 "nbformat": 4,
 "nbformat_minor": 5
}
