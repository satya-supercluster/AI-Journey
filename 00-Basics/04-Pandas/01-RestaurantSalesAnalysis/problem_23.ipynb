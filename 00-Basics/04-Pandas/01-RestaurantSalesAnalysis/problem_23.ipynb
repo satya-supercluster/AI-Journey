{
 "cells": [
  {
   "cell_type": "markdown",
   "id": "dcd234b3",
   "metadata": {},
   "source": [
    "### Problem 23: Show each manager’s best-selling product by revenue."
   ]
  },
  {
   "cell_type": "code",
   "execution_count": null,
   "id": "11c052aa",
   "metadata": {},
   "outputs": [],
   "source": [
    "## Write your code here"
   ]
  }
 ],
 "metadata": {},
 "nbformat": 4,
 "nbformat_minor": 5
}
