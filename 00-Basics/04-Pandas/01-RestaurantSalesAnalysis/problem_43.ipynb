{
 "cells": [
  {
   "cell_type": "markdown",
   "id": "f45e6e8f",
   "metadata": {},
   "source": [
    "### Problem 43: Identify the top 3 products that together contribute to at least 50% of total revenue."
   ]
  },
  {
   "cell_type": "code",
   "execution_count": null,
   "id": "e4e4acfc",
   "metadata": {},
   "outputs": [],
   "source": [
    "## Write your code here"
   ]
  }
 ],
 "metadata": {},
 "nbformat": 4,
 "nbformat_minor": 5
}
