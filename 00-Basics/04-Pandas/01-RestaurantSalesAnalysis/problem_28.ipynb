{
 "cells": [
  {
   "cell_type": "markdown",
   "id": "b2892892",
   "metadata": {},
   "source": [
    "### Problem 28: Show the average revenue per order for each purchase type."
   ]
  },
  {
   "cell_type": "code",
   "execution_count": null,
   "id": "e2b6d8dd",
   "metadata": {},
   "outputs": [],
   "source": [
    "## Write your code here"
   ]
  }
 ],
 "metadata": {},
 "nbformat": 4,
 "nbformat_minor": 5
}
