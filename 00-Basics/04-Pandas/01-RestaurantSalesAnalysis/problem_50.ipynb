{
 "cells": [
  {
   "cell_type": "markdown",
   "id": "fab02ddb",
   "metadata": {},
   "source": [
    "### Problem 50: Segment customers (by Order ID patterns) to see if there are repeat purchase behaviors per purchase type."
   ]
  },
  {
   "cell_type": "code",
   "execution_count": null,
   "id": "8849b24e",
   "metadata": {},
   "outputs": [],
   "source": [
    "## Write your code here"
   ]
  }
 ],
 "metadata": {},
 "nbformat": 4,
 "nbformat_minor": 5
}
