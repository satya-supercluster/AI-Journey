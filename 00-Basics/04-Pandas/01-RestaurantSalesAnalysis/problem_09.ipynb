{
 "cells": [
  {
   "cell_type": "markdown",
   "id": "f35de422",
   "metadata": {},
   "source": [
    "### Problem 9: Count the number of orders handled by each manager."
   ]
  },
  {
   "cell_type": "code",
   "execution_count": null,
   "id": "6f168cf2",
   "metadata": {},
   "outputs": [],
   "source": [
    "## Write your code here"
   ]
  }
 ],
 "metadata": {},
 "nbformat": 4,
 "nbformat_minor": 5
}
