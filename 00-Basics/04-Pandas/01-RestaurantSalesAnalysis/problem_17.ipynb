{
 "cells": [
  {
   "cell_type": "markdown",
   "id": "e520bc51",
   "metadata": {},
   "source": [
    "### Problem 17: Find the product with the highest total revenue."
   ]
  },
  {
   "cell_type": "code",
   "execution_count": null,
   "id": "5fa1ef6f",
   "metadata": {},
   "outputs": [],
   "source": [
    "## Write your code here"
   ]
  }
 ],
 "metadata": {},
 "nbformat": 4,
 "nbformat_minor": 5
}
