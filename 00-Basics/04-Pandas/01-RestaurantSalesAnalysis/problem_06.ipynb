{
 "cells": [
  {
   "cell_type": "markdown",
   "id": "f35998a7",
   "metadata": {},
   "source": [
    "### Problem 6: Filter all orders made in-store."
   ]
  },
  {
   "cell_type": "code",
   "execution_count": null,
   "id": "06f0fe76",
   "metadata": {},
   "outputs": [],
   "source": [
    "## Write your code here"
   ]
  }
 ],
 "metadata": {},
 "nbformat": 4,
 "nbformat_minor": 5
}
