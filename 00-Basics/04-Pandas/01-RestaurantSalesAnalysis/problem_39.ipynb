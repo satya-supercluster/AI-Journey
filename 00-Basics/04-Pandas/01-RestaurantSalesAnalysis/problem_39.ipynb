{
 "cells": [
  {
   "cell_type": "markdown",
   "id": "e9b79953",
   "metadata": {},
   "source": [
    "### Problem 39: Show the correlation between unit price and quantity sold."
   ]
  },
  {
   "cell_type": "code",
   "execution_count": null,
   "id": "aebade99",
   "metadata": {},
   "outputs": [],
   "source": [
    "## Write your code here"
   ]
  }
 ],
 "metadata": {},
 "nbformat": 4,
 "nbformat_minor": 5
}
