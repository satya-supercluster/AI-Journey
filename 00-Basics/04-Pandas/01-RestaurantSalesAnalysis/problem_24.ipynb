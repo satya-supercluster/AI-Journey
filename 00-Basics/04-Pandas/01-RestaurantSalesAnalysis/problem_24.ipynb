{
 "cells": [
  {
   "cell_type": "markdown",
   "id": "8f6d5545",
   "metadata": {},
   "source": [
    "### Problem 24: Find the month with the highest number of orders."
   ]
  },
  {
   "cell_type": "code",
   "execution_count": null,
   "id": "b107a0e9",
   "metadata": {},
   "outputs": [],
   "source": [
    "## Write your code here"
   ]
  }
 ],
 "metadata": {},
 "nbformat": 4,
 "nbformat_minor": 5
}
