{
 "cells": [
  {
   "cell_type": "markdown",
   "id": "9816f319",
   "metadata": {},
   "source": [
    "### Problem 21: Create a new column Total Price = Price × Quantity."
   ]
  },
  {
   "cell_type": "code",
   "execution_count": null,
   "id": "633e4d8a",
   "metadata": {},
   "outputs": [],
   "source": [
    "## Write your code here"
   ]
  }
 ],
 "metadata": {},
 "nbformat": 4,
 "nbformat_minor": 5
}
