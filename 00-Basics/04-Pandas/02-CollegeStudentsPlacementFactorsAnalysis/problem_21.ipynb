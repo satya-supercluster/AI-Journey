{
 "cells": [
  {
   "cell_type": "markdown",
   "id": "53b84b15",
   "metadata": {},
   "source": [
    "### Problem 21: Handle missing Prev_Sem_Result by imputing the median; show before/after counts."
   ]
  },
  {
   "cell_type": "code",
   "execution_count": null,
   "id": "6163a385",
   "metadata": {},
   "outputs": [],
   "source": [
    "# Write your code here\n"
   ]
  }
 ],
 "metadata": {},
 "nbformat": 4,
 "nbformat_minor": 5
}
