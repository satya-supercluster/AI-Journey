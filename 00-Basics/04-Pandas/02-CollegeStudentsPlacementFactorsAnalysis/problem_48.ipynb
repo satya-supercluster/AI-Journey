{
 "cells": [
  {
   "cell_type": "markdown",
   "id": "969efc55",
   "metadata": {},
   "source": [
    "### Problem 48: Demonstrate how to join this dataset with a hypothetical 'college_info' DataFrame (college name, location) on College_ID."
   ]
  },
  {
   "cell_type": "code",
   "execution_count": null,
   "id": "447e5fbc",
   "metadata": {},
   "outputs": [],
   "source": [
    "# Write your code here\n"
   ]
  }
 ],
 "metadata": {},
 "nbformat": 4,
 "nbformat_minor": 5
}
