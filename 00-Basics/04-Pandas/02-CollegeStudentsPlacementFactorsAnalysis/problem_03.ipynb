{
 "cells": [
  {
   "cell_type": "markdown",
   "id": "52156ac3",
   "metadata": {},
   "source": [
    "### Problem 3: Display summary statistics (count, mean, std, min, max) for numerical columns."
   ]
  },
  {
   "cell_type": "code",
   "execution_count": null,
   "id": "11b5ebff",
   "metadata": {},
   "outputs": [],
   "source": [
    "# Write your code here\n"
   ]
  }
 ],
 "metadata": {},
 "nbformat": 4,
 "nbformat_minor": 5
}
