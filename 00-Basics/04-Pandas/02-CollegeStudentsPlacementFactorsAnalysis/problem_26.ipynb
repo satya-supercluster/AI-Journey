{
 "cells": [
  {
   "cell_type": "markdown",
   "id": "9eb972b1",
   "metadata": {},
   "source": [
    "### Problem 26: Sort students by Academic_Index descending and show top 20."
   ]
  },
  {
   "cell_type": "code",
   "execution_count": null,
   "id": "4f5d78e3",
   "metadata": {},
   "outputs": [],
   "source": [
    "# Write your code here\n"
   ]
  }
 ],
 "metadata": {},
 "nbformat": 4,
 "nbformat_minor": 5
}
