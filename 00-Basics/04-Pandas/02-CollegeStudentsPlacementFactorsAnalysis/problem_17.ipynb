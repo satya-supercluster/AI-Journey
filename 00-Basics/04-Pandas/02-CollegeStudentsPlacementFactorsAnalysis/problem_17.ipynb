{
 "cells": [
  {
   "cell_type": "markdown",
   "id": "3fcfae21",
   "metadata": {},
   "source": [
    "### Problem 17: Find avg Communication_Skills for students with and without internships."
   ]
  },
  {
   "cell_type": "code",
   "execution_count": null,
   "id": "a7c75d46",
   "metadata": {},
   "outputs": [],
   "source": [
    "# Write your code here\n"
   ]
  }
 ],
 "metadata": {},
 "nbformat": 4,
 "nbformat_minor": 5
}
