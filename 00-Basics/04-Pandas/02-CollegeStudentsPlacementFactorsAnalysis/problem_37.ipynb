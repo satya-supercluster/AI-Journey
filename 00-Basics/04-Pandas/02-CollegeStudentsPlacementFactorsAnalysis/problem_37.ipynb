{
 "cells": [
  {
   "cell_type": "markdown",
   "id": "6ac2f7b6",
   "metadata": {},
   "source": [
    "### Problem 37: Apply PCA to numeric features and show explained variance ratio for first 5 components."
   ]
  },
  {
   "cell_type": "code",
   "execution_count": null,
   "id": "e82319c7",
   "metadata": {},
   "outputs": [],
   "source": [
    "# Write your code here\n"
   ]
  }
 ],
 "metadata": {},
 "nbformat": 4,
 "nbformat_minor": 5
}
