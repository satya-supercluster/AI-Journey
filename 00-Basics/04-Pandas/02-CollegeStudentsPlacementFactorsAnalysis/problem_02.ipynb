{
 "cells": [
  {
   "cell_type": "markdown",
   "id": "0c4d5be4",
   "metadata": {},
   "source": [
    "### Problem 2: Show the DataFrame's shape and data types for each column."
   ]
  },
  {
   "cell_type": "code",
   "execution_count": null,
   "id": "b51de113",
   "metadata": {},
   "outputs": [],
   "source": [
    "# Write your code here\n"
   ]
  }
 ],
 "metadata": {},
 "nbformat": 4,
 "nbformat_minor": 5
}
