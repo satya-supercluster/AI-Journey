{
 "cells": [
  {
   "cell_type": "markdown",
   "id": "5e30f6fb",
   "metadata": {},
   "source": [
    "### Problem 7: Calculate the distribution (counts) of Placement outcomes."
   ]
  },
  {
   "cell_type": "code",
   "execution_count": null,
   "id": "898fddbb",
   "metadata": {},
   "outputs": [],
   "source": [
    "# Write your code here\n"
   ]
  }
 ],
 "metadata": {},
 "nbformat": 4,
 "nbformat_minor": 5
}
