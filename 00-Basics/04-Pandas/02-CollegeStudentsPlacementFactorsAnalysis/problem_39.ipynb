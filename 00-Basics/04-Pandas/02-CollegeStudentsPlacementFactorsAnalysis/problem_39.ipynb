{
 "cells": [
  {
   "cell_type": "markdown",
   "id": "c628f777",
   "metadata": {},
   "source": [
    "### Problem 39: Identify students whose predicted placement probability is between 0.45 and 0.55 (model uncertainty)."
   ]
  },
  {
   "cell_type": "code",
   "execution_count": null,
   "id": "73523dab",
   "metadata": {},
   "outputs": [],
   "source": [
    "# Write your code here\n"
   ]
  }
 ],
 "metadata": {},
 "nbformat": 4,
 "nbformat_minor": 5
}
