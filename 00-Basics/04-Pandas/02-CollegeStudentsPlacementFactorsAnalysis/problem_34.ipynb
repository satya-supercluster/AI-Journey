{
 "cells": [
  {
   "cell_type": "markdown",
   "id": "7833b46e",
   "metadata": {},
   "source": [
    "### Problem 34: Use SMOTE to balance the classes and show class counts before and after. (Prepare code cell)"
   ]
  },
  {
   "cell_type": "code",
   "execution_count": null,
   "id": "33bd6ea9",
   "metadata": {},
   "outputs": [],
   "source": [
    "# Write your code here\n"
   ]
  }
 ],
 "metadata": {},
 "nbformat": 4,
 "nbformat_minor": 5
}
