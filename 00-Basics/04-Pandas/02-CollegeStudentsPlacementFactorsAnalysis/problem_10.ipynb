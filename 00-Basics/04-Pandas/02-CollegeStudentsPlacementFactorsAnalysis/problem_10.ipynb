{
 "cells": [
  {
   "cell_type": "markdown",
   "id": "04d153af",
   "metadata": {},
   "source": [
    "### Problem 10: Convert 'Internship_Experience' into binary (1 for Yes, 0 for No)."
   ]
  },
  {
   "cell_type": "code",
   "execution_count": null,
   "id": "58368c93",
   "metadata": {},
   "outputs": [],
   "source": [
    "# Write your code here\n"
   ]
  }
 ],
 "metadata": {},
 "nbformat": 4,
 "nbformat_minor": 5
}
