{
 "cells": [
  {
   "cell_type": "markdown",
   "id": "06c1c0d6",
   "metadata": {},
   "source": [
    "### Problem 18: Create a pivot table: index=Projects_Completed, columns=Placement, values=CGPA (mean)."
   ]
  },
  {
   "cell_type": "code",
   "execution_count": null,
   "id": "027763d3",
   "metadata": {},
   "outputs": [],
   "source": [
    "# Write your code here\n"
   ]
  }
 ],
 "metadata": {},
 "nbformat": 4,
 "nbformat_minor": 5
}
