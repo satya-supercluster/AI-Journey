{
 "cells": [
  {
   "cell_type": "markdown",
   "id": "adc094be",
   "metadata": {},
   "source": [
    "### Problem 28: Split the dataset into train (70%) and test (30%) preserving Placement balance (stratify)."
   ]
  },
  {
   "cell_type": "code",
   "execution_count": null,
   "id": "6ec3e5e7",
   "metadata": {},
   "outputs": [],
   "source": [
    "# Write your code here\n"
   ]
  }
 ],
 "metadata": {},
 "nbformat": 4,
 "nbformat_minor": 5
}
