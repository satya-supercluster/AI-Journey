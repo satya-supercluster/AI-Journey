{
 "cells": [
  {
   "cell_type": "markdown",
   "id": "f34d9d0d",
   "metadata": {},
   "source": [
    "### Problem 23: One-hot encode the binned CGPA categories and show the new columns."
   ]
  },
  {
   "cell_type": "code",
   "execution_count": null,
   "id": "46069092",
   "metadata": {},
   "outputs": [],
   "source": [
    "# Write your code here\n"
   ]
  }
 ],
 "metadata": {},
 "nbformat": 4,
 "nbformat_minor": 5
}
