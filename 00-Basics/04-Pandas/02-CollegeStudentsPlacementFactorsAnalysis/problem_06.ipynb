{
 "cells": [
  {
   "cell_type": "markdown",
   "id": "9c66b845",
   "metadata": {},
   "source": [
    "### Problem 6: Filter students with CGPA >= 8.0 and list their College_ID and CGPA."
   ]
  },
  {
   "cell_type": "code",
   "execution_count": null,
   "id": "cccd1755",
   "metadata": {},
   "outputs": [],
   "source": [
    "# Write your code here\n"
   ]
  }
 ],
 "metadata": {},
 "nbformat": 4,
 "nbformat_minor": 5
}
