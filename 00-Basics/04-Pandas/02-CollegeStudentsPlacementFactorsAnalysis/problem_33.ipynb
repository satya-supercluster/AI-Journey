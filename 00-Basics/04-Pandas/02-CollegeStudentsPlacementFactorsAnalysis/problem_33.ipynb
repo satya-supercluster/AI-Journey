{
 "cells": [
  {
   "cell_type": "markdown",
   "id": "598c17e1",
   "metadata": {},
   "source": [
    "### Problem 33: Implement KNN classifier; tune k from 1 to 15 and report best k with validation accuracy."
   ]
  },
  {
   "cell_type": "code",
   "execution_count": null,
   "id": "14b59a2d",
   "metadata": {},
   "outputs": [],
   "source": [
    "# Write your code here\n"
   ]
  }
 ],
 "metadata": {},
 "nbformat": 4,
 "nbformat_minor": 5
}
