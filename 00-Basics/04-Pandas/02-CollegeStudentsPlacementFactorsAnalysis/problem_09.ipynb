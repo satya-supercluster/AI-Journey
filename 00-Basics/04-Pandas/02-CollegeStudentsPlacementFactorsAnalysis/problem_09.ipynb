{
 "cells": [
  {
   "cell_type": "markdown",
   "id": "179aad23",
   "metadata": {},
   "source": [
    "### Problem 9: Create a new boolean column 'High_IQ' where IQ > 115."
   ]
  },
  {
   "cell_type": "code",
   "execution_count": null,
   "id": "dc2723fc",
   "metadata": {},
   "outputs": [],
   "source": [
    "# Write your code here\n"
   ]
  }
 ],
 "metadata": {},
 "nbformat": 4,
 "nbformat_minor": 5
}
