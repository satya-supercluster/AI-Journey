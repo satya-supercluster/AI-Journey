{
 "cells": [
  {
   "cell_type": "markdown",
   "id": "482fee04",
   "metadata": {},
   "source": [
    "### Problem 30: Create a confusion matrix for the Decision Tree predictions and display it."
   ]
  },
  {
   "cell_type": "code",
   "execution_count": null,
   "id": "c834e94a",
   "metadata": {},
   "outputs": [],
   "source": [
    "# Write your code here\n"
   ]
  }
 ],
 "metadata": {},
 "nbformat": 4,
 "nbformat_minor": 5
}
