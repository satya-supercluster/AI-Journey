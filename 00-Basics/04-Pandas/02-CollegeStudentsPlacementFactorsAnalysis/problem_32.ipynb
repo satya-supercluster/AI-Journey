{
 "cells": [
  {
   "cell_type": "markdown",
   "id": "bf902bb6",
   "metadata": {},
   "source": [
    "### Problem 32: Plot the ROC curve for a trained logistic regression model. (Prepare code cell)"
   ]
  },
  {
   "cell_type": "code",
   "execution_count": null,
   "id": "425cf2f8",
   "metadata": {},
   "outputs": [],
   "source": [
    "# Write your code here\n"
   ]
  }
 ],
 "metadata": {},
 "nbformat": 4,
 "nbformat_minor": 5
}
