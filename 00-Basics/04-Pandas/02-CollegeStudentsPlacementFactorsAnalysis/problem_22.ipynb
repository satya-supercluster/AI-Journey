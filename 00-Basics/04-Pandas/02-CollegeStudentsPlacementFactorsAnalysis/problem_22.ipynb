{
 "cells": [
  {
   "cell_type": "markdown",
   "id": "d3b9e2f6",
   "metadata": {},
   "source": [
    "### Problem 22: Detect outliers in IQ using IQR and list rows considered outliers."
   ]
  },
  {
   "cell_type": "code",
   "execution_count": null,
   "id": "97d2e513",
   "metadata": {},
   "outputs": [],
   "source": [
    "# Write your code here\n"
   ]
  }
 ],
 "metadata": {},
 "nbformat": 4,
 "nbformat_minor": 5
}
