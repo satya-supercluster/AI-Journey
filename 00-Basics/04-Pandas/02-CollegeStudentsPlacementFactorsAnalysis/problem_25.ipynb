{
 "cells": [
  {
   "cell_type": "markdown",
   "id": "b4ede908",
   "metadata": {},
   "source": [
    "### Problem 25: Create a new column 'Academic_Index' as weighted sum: 0.5*CGPA + 0.3*Academic_Performance + 0.2*Communication_Skills."
   ]
  },
  {
   "cell_type": "code",
   "execution_count": null,
   "id": "f4a0af51",
   "metadata": {},
   "outputs": [],
   "source": [
    "# Write your code here\n"
   ]
  }
 ],
 "metadata": {},
 "nbformat": 4,
 "nbformat_minor": 5
}
