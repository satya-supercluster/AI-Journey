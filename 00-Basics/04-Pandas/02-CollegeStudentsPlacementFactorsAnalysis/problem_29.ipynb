{
 "cells": [
  {
   "cell_type": "markdown",
   "id": "fa807d7c",
   "metadata": {},
   "source": [
    "### Problem 29: Train a Decision Tree classifier and report accuracy on test set. (Prepare code cell)"
   ]
  },
  {
   "cell_type": "code",
   "execution_count": null,
   "id": "d1677b87",
   "metadata": {},
   "outputs": [],
   "source": [
    "# Write your code here\n"
   ]
  }
 ],
 "metadata": {},
 "nbformat": 4,
 "nbformat_minor": 5
}
