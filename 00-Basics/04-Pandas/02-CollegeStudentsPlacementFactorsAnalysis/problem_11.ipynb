{
 "cells": [
  {
   "cell_type": "markdown",
   "id": "6a9cbc9e",
   "metadata": {},
   "source": [
    "### Problem 11: Find the top 5 students with highest Extra_Curricular_Score and show their details."
   ]
  },
  {
   "cell_type": "code",
   "execution_count": null,
   "id": "bc39bccf",
   "metadata": {},
   "outputs": [],
   "source": [
    "# Write your code here\n"
   ]
  }
 ],
 "metadata": {},
 "nbformat": 4,
 "nbformat_minor": 5
}
