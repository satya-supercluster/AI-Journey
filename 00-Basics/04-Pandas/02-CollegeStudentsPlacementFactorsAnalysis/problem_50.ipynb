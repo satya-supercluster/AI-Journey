{
 "cells": [
  {
   "cell_type": "markdown",
   "id": "dc87d5e6",
   "metadata": {},
   "source": [
    "### Problem 50: Use SHAP to explain a trained tree-based model's predictions and show a summary plot. (Prepare code cell)"
   ]
  },
  {
   "cell_type": "code",
   "execution_count": null,
   "id": "06df7f89",
   "metadata": {},
   "outputs": [],
   "source": [
    "# Write your code here\n"
   ]
  }
 ],
 "metadata": {},
 "nbformat": 4,
 "nbformat_minor": 5
}
