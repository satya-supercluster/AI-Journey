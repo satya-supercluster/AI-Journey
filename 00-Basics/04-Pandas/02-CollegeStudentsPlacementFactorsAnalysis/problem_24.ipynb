{
 "cells": [
  {
   "cell_type": "markdown",
   "id": "940725ea",
   "metadata": {},
   "source": [
    "### Problem 24: Randomly sample 1000 rows without replacement and display its shape."
   ]
  },
  {
   "cell_type": "code",
   "execution_count": null,
   "id": "58d05720",
   "metadata": {},
   "outputs": [],
   "source": [
    "# Write your code here\n"
   ]
  }
 ],
 "metadata": {},
 "nbformat": 4,
 "nbformat_minor": 5
}
