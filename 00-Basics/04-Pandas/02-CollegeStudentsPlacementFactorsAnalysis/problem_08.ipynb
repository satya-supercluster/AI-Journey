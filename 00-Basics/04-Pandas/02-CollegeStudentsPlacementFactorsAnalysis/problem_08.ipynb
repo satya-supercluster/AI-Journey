{
 "cells": [
  {
   "cell_type": "markdown",
   "id": "7b3157e3",
   "metadata": {},
   "source": [
    "### Problem 8: Compute the mean CGPA grouped by Placement status."
   ]
  },
  {
   "cell_type": "code",
   "execution_count": null,
   "id": "55fe46bb",
   "metadata": {},
   "outputs": [],
   "source": [
    "# Write your code here\n"
   ]
  }
 ],
 "metadata": {},
 "nbformat": 4,
 "nbformat_minor": 5
}
