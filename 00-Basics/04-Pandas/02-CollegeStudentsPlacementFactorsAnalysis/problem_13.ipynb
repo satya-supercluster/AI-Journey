{
 "cells": [
  {
   "cell_type": "markdown",
   "id": "f070faa1",
   "metadata": {},
   "source": [
    "### Problem 13: Plot (using pandas plotting) CGPA distribution histogram. (Just prepare code cell)"
   ]
  },
  {
   "cell_type": "code",
   "execution_count": null,
   "id": "71b51a1a",
   "metadata": {},
   "outputs": [],
   "source": [
    "# Write your code here\n"
   ]
  }
 ],
 "metadata": {},
 "nbformat": 4,
 "nbformat_minor": 5
}
