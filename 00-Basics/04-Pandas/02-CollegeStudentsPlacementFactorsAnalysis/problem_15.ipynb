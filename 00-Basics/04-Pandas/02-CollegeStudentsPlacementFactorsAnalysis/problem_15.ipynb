{
 "cells": [
  {
   "cell_type": "markdown",
   "id": "bef1d3eb",
   "metadata": {},
   "source": [
    "### Problem 15: Create a new feature 'Project_Score' = Projects_Completed * 2 + Extra_Curricular_Score."
   ]
  },
  {
   "cell_type": "code",
   "execution_count": null,
   "id": "2717d4d2",
   "metadata": {},
   "outputs": [],
   "source": [
    "# Write your code here\n"
   ]
  }
 ],
 "metadata": {},
 "nbformat": 4,
 "nbformat_minor": 5
}
