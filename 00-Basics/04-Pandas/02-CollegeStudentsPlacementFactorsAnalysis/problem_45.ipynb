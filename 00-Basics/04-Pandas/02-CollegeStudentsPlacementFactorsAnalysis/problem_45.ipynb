{
 "cells": [
  {
   "cell_type": "markdown",
   "id": "7153f82b",
   "metadata": {},
   "source": [
    "### Problem 45: Build a simple dashboard-like summary (pandas) that prints: total students, placement rate, avg CGPA, avg IQ."
   ]
  },
  {
   "cell_type": "code",
   "execution_count": null,
   "id": "38dfa7f0",
   "metadata": {},
   "outputs": [],
   "source": [
    "# Write your code here\n"
   ]
  }
 ],
 "metadata": {},
 "nbformat": 4,
 "nbformat_minor": 5
}
