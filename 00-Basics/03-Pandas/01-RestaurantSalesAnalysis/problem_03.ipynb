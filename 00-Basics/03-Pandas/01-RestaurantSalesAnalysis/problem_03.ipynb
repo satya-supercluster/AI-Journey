{
 "cells": [
  {
   "cell_type": "markdown",
   "id": "d3651edf",
   "metadata": {},
   "source": [
    "### Problem 3: Find the number of unique products sold."
   ]
  },
  {
   "cell_type": "code",
   "execution_count": null,
   "id": "55b66173",
   "metadata": {},
   "outputs": [],
   "source": [
    "## Write your code here"
   ]
  }
 ],
 "metadata": {},
 "nbformat": 4,
 "nbformat_minor": 5
}
