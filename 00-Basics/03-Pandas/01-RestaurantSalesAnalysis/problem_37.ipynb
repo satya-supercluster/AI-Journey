{
 "cells": [
  {
   "cell_type": "markdown",
   "id": "50924bf4",
   "metadata": {},
   "source": [
    "### Problem 37: Determine the percentage change in monthly sales revenue compared to the previous month."
   ]
  },
  {
   "cell_type": "code",
   "execution_count": null,
   "id": "c5efc832",
   "metadata": {},
   "outputs": [],
   "source": [
    "## Write your code here"
   ]
  }
 ],
 "metadata": {},
 "nbformat": 4,
 "nbformat_minor": 5
}
