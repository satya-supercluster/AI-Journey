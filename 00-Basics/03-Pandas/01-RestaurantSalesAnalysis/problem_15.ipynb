{
 "cells": [
  {
   "cell_type": "markdown",
   "id": "f1c75cb4",
   "metadata": {},
   "source": [
    "### Problem 15: Show monthly total revenue using the Order Date column."
   ]
  },
  {
   "cell_type": "code",
   "execution_count": null,
   "id": "f8edf26b",
   "metadata": {},
   "outputs": [],
   "source": [
    "## Write your code here"
   ]
  }
 ],
 "metadata": {},
 "nbformat": 4,
 "nbformat_minor": 5
}
