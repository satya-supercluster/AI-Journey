{
 "cells": [
  {
   "cell_type": "markdown",
   "id": "6da13013",
   "metadata": {},
   "source": [
    "### Problem 12: Find the average order value across all orders."
   ]
  },
  {
   "cell_type": "code",
   "execution_count": null,
   "id": "f01a9e13",
   "metadata": {},
   "outputs": [],
   "source": [
    "## Write your code here"
   ]
  }
 ],
 "metadata": {},
 "nbformat": 4,
 "nbformat_minor": 5
}
