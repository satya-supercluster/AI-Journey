{
 "cells": [
  {
   "cell_type": "markdown",
   "id": "21d93550",
   "metadata": {},
   "source": [
    "### Problem 4: Count the total number of orders in the dataset."
   ]
  },
  {
   "cell_type": "code",
   "execution_count": null,
   "id": "472322ef",
   "metadata": {},
   "outputs": [],
   "source": [
    "## Write your code here"
   ]
  }
 ],
 "metadata": {},
 "nbformat": 4,
 "nbformat_minor": 5
}
