{
 "cells": [
  {
   "cell_type": "markdown",
   "id": "f7dc28e7",
   "metadata": {},
   "source": [
    "### Problem 42: Find the product that sells the most in drive-thru purchases but least in online purchases."
   ]
  },
  {
   "cell_type": "code",
   "execution_count": null,
   "id": "6be0e5ca",
   "metadata": {},
   "outputs": [],
   "source": [
    "## Write your code here"
   ]
  }
 ],
 "metadata": {},
 "nbformat": 4,
 "nbformat_minor": 5
}
