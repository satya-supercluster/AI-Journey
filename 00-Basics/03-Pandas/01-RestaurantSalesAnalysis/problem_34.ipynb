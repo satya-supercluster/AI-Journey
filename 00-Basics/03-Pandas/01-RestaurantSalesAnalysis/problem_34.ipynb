{
 "cells": [
  {
   "cell_type": "markdown",
   "id": "2d302dd4",
   "metadata": {},
   "source": [
    "### Problem 34: Find the month with the highest total sales for each product."
   ]
  },
  {
   "cell_type": "code",
   "execution_count": null,
   "id": "552dc668",
   "metadata": {},
   "outputs": [],
   "source": [
    "## Write your code here"
   ]
  }
 ],
 "metadata": {},
 "nbformat": 4,
 "nbformat_minor": 5
}
