{
 "cells": [
  {
   "cell_type": "markdown",
   "id": "176876ca",
   "metadata": {},
   "source": [
    "### Problem 14: Find the top 3 managers by total sales revenue."
   ]
  },
  {
   "cell_type": "code",
   "execution_count": null,
   "id": "076b8e1b",
   "metadata": {},
   "outputs": [],
   "source": [
    "## Write your code here"
   ]
  }
 ],
 "metadata": {},
 "nbformat": 4,
 "nbformat_minor": 5
}
