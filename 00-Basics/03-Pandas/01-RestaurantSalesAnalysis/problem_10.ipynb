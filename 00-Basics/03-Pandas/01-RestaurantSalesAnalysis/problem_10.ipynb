{
 "cells": [
  {
   "cell_type": "markdown",
   "id": "6d3cebcd",
   "metadata": {},
   "source": [
    "### Problem 10: Display all rows where quantity ordered is more than 5."
   ]
  },
  {
   "cell_type": "code",
   "execution_count": null,
   "id": "abccef22",
   "metadata": {},
   "outputs": [],
   "source": [
    "## Write your code here"
   ]
  }
 ],
 "metadata": {},
 "nbformat": 4,
 "nbformat_minor": 5
}
