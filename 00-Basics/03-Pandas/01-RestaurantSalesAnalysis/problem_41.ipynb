{
 "cells": [
  {
   "cell_type": "markdown",
   "id": "2cbe1cb5",
   "metadata": {},
   "source": [
    "### Problem 41: For each product, find the city where it sells best (highest revenue)."
   ]
  },
  {
   "cell_type": "code",
   "execution_count": null,
   "id": "baa85b33",
   "metadata": {},
   "outputs": [],
   "source": [
    "## Write your code here"
   ]
  }
 ],
 "metadata": {},
 "nbformat": 4,
 "nbformat_minor": 5
}
