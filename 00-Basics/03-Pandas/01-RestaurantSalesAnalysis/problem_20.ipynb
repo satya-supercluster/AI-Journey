{
 "cells": [
  {
   "cell_type": "markdown",
   "id": "fa257258",
   "metadata": {},
   "source": [
    "### Problem 20: Show the top 3 cities by average product price sold."
   ]
  },
  {
   "cell_type": "code",
   "execution_count": null,
   "id": "25622a4e",
   "metadata": {},
   "outputs": [],
   "source": [
    "## Write your code here"
   ]
  }
 ],
 "metadata": {},
 "nbformat": 4,
 "nbformat_minor": 5
}
