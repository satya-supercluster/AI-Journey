{
 "cells": [
  {
   "cell_type": "markdown",
   "id": "70e71842",
   "metadata": {},
   "source": [
    "### Problem 46: Identify cities that have had at least 3 consecutive months of revenue growth."
   ]
  },
  {
   "cell_type": "code",
   "execution_count": null,
   "id": "7c8794d8",
   "metadata": {},
   "outputs": [],
   "source": [
    "## Write your code here"
   ]
  }
 ],
 "metadata": {},
 "nbformat": 4,
 "nbformat_minor": 5
}
