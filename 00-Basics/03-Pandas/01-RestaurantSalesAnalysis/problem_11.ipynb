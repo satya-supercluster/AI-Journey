{
 "cells": [
  {
   "cell_type": "markdown",
   "id": "7d7f28ef",
   "metadata": {},
   "source": [
    "### Problem 11: Calculate the total revenue for each product."
   ]
  },
  {
   "cell_type": "code",
   "execution_count": null,
   "id": "57309b32",
   "metadata": {},
   "outputs": [],
   "source": [
    "## Write your code here"
   ]
  }
 ],
 "metadata": {},
 "nbformat": 4,
 "nbformat_minor": 5
}
