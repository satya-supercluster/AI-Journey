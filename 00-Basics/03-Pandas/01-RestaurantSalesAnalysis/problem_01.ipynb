{
 "cells": [
  {
   "cell_type": "markdown",
   "id": "77c5cca9",
   "metadata": {},
   "source": [
    "### Problem 1: Display the first 10 rows of the dataset."
   ]
  },
  {
   "cell_type": "code",
   "execution_count": null,
   "id": "b6fec7ca",
   "metadata": {},
   "outputs": [],
   "source": [
    "## Write your code here"
   ]
  }
 ],
 "metadata": {
  "kernelspec": {
   "display_name": "base",
   "language": "python",
   "name": "python3"
  },
  "language_info": {
   "name": "python",
   "version": "3.11.7"
  }
 },
 "nbformat": 4,
 "nbformat_minor": 5
}
