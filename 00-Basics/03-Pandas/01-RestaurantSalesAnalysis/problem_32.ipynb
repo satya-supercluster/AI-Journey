{
 "cells": [
  {
   "cell_type": "markdown",
   "id": "fc0c99e1",
   "metadata": {},
   "source": [
    "### Problem 32: Find the top product for each purchase type based on quantity sold."
   ]
  },
  {
   "cell_type": "code",
   "execution_count": null,
   "id": "149bbc24",
   "metadata": {},
   "outputs": [],
   "source": [
    "## Write your code here"
   ]
  }
 ],
 "metadata": {},
 "nbformat": 4,
 "nbformat_minor": 5
}
