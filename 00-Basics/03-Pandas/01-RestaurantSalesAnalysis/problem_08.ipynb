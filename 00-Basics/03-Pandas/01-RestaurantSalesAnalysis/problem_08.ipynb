{
 "cells": [
  {
   "cell_type": "markdown",
   "id": "2654a5e2",
   "metadata": {},
   "source": [
    "### Problem 8: Find the total quantity ordered for 'Burger' product."
   ]
  },
  {
   "cell_type": "code",
   "execution_count": null,
   "id": "00a6f60f",
   "metadata": {},
   "outputs": [],
   "source": [
    "## Write your code here"
   ]
  }
 ],
 "metadata": {},
 "nbformat": 4,
 "nbformat_minor": 5
}
