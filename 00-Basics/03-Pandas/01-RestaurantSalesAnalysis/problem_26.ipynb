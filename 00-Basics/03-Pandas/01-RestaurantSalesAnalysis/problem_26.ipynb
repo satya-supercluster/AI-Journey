{
 "cells": [
  {
   "cell_type": "markdown",
   "id": "269d0fdc",
   "metadata": {},
   "source": [
    "### Problem 26: Calculate the percentage contribution of each product to total revenue."
   ]
  },
  {
   "cell_type": "code",
   "execution_count": null,
   "id": "165d1978",
   "metadata": {},
   "outputs": [],
   "source": [
    "## Write your code here"
   ]
  }
 ],
 "metadata": {},
 "nbformat": 4,
 "nbformat_minor": 5
}
