{
 "cells": [
  {
   "cell_type": "markdown",
   "id": "e9e93315",
   "metadata": {},
   "source": [
    "### Problem 19: Bin CGPA into categories ['Low','Medium','High'] and add as a column."
   ]
  },
  {
   "cell_type": "code",
   "execution_count": null,
   "id": "5a3dd4e6",
   "metadata": {},
   "outputs": [],
   "source": [
    "# Write your code here\n"
   ]
  }
 ],
 "metadata": {},
 "nbformat": 4,
 "nbformat_minor": 5
}
