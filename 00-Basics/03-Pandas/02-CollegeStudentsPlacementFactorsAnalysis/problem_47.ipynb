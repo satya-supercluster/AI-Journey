{
 "cells": [
  {
   "cell_type": "markdown",
   "id": "06800acd",
   "metadata": {},
   "source": [
    "### Problem 47: Create an example of feature engineering using interaction terms: CGPA * Communication_Skills and evaluate its correlation with Placement."
   ]
  },
  {
   "cell_type": "code",
   "execution_count": null,
   "id": "b8409793",
   "metadata": {},
   "outputs": [],
   "source": [
    "# Write your code here\n"
   ]
  }
 ],
 "metadata": {},
 "nbformat": 4,
 "nbformat_minor": 5
}
