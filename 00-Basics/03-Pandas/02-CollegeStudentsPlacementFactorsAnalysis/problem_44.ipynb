{
 "cells": [
  {
   "cell_type": "markdown",
   "id": "94970794",
   "metadata": {},
   "source": [
    "### Problem 44: Create a function that takes a DataFrame and returns the top 3 risk factors (features) correlated with not being placed."
   ]
  },
  {
   "cell_type": "code",
   "execution_count": null,
   "id": "4fad3e5d",
   "metadata": {},
   "outputs": [],
   "source": [
    "# Write your code here\n"
   ]
  }
 ],
 "metadata": {},
 "nbformat": 4,
 "nbformat_minor": 5
}
