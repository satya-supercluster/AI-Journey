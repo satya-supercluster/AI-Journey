{
 "cells": [
  {
   "cell_type": "markdown",
   "id": "98482193",
   "metadata": {},
   "source": [
    "### Problem 20: Standardize (z-score) numeric columns IQ, CGPA, and Prev_Sem_Result and add as new columns."
   ]
  },
  {
   "cell_type": "code",
   "execution_count": null,
   "id": "4557d54f",
   "metadata": {},
   "outputs": [],
   "source": [
    "# Write your code here\n"
   ]
  }
 ],
 "metadata": {},
 "nbformat": 4,
 "nbformat_minor": 5
}
