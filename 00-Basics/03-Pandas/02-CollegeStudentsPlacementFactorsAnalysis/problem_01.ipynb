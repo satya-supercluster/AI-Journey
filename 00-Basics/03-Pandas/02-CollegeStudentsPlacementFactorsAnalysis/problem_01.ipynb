{
 "cells": [
  {
   "cell_type": "markdown",
   "id": "f71497aa",
   "metadata": {},
   "source": [
    "### Problem 1: Load the CSV into a pandas DataFrame and display the first 5 rows."
   ]
  },
  {
   "cell_type": "code",
   "execution_count": null,
   "id": "e38b302a",
   "metadata": {},
   "outputs": [],
   "source": [
    "# Write your code here\n"
   ]
  }
 ],
 "metadata": {},
 "nbformat": 4,
 "nbformat_minor": 5
}
