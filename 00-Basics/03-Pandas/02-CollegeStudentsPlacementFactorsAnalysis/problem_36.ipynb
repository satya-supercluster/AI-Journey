{
 "cells": [
  {
   "cell_type": "markdown",
   "id": "a3faf323",
   "metadata": {},
   "source": [
    "### Problem 36: Create pipeline for preprocessing (scaling + encoding) and model training using ColumnTransformer."
   ]
  },
  {
   "cell_type": "code",
   "execution_count": null,
   "id": "4d06f64c",
   "metadata": {},
   "outputs": [],
   "source": [
    "# Write your code here\n"
   ]
  }
 ],
 "metadata": {},
 "nbformat": 4,
 "nbformat_minor": 5
}
