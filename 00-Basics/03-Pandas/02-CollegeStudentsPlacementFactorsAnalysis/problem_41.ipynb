{
 "cells": [
  {
   "cell_type": "markdown",
   "id": "896bd0ae",
   "metadata": {},
   "source": [
    "### Problem 41: Perform grouping: compute median CGPA per Communication_Skills score and visualize as table."
   ]
  },
  {
   "cell_type": "code",
   "execution_count": null,
   "id": "ea2ea24e",
   "metadata": {},
   "outputs": [],
   "source": [
    "# Write your code here\n"
   ]
  }
 ],
 "metadata": {},
 "nbformat": 4,
 "nbformat_minor": 5
}
