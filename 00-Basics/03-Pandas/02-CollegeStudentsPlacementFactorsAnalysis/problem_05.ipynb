{
 "cells": [
  {
   "cell_type": "markdown",
   "id": "cd57af14",
   "metadata": {},
   "source": [
    "### Problem 5: Select and display only the rows where Placement is 'Yes' (first 10 rows)."
   ]
  },
  {
   "cell_type": "code",
   "execution_count": null,
   "id": "2bde5ad6",
   "metadata": {},
   "outputs": [],
   "source": [
    "# Write your code here\n"
   ]
  }
 ],
 "metadata": {},
 "nbformat": 4,
 "nbformat_minor": 5
}
