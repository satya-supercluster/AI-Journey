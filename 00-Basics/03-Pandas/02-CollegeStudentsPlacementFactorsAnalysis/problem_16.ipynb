{
 "cells": [
  {
   "cell_type": "markdown",
   "id": "8f0678ee",
   "metadata": {},
   "source": [
    "### Problem 16: Group by College_ID and compute average Placement rate per college."
   ]
  },
  {
   "cell_type": "code",
   "execution_count": null,
   "id": "dc074b95",
   "metadata": {},
   "outputs": [],
   "source": [
    "# Write your code here\n"
   ]
  }
 ],
 "metadata": {},
 "nbformat": 4,
 "nbformat_minor": 5
}
