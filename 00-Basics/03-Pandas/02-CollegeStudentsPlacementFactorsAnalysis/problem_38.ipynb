{
 "cells": [
  {
   "cell_type": "markdown",
   "id": "0c884853",
   "metadata": {},
   "source": [
    "### Problem 38: Cluster students using KMeans (k=3) on scaled numeric features and describe cluster sizes."
   ]
  },
  {
   "cell_type": "code",
   "execution_count": null,
   "id": "f35d932b",
   "metadata": {},
   "outputs": [],
   "source": [
    "# Write your code here\n"
   ]
  }
 ],
 "metadata": {},
 "nbformat": 4,
 "nbformat_minor": 5
}
