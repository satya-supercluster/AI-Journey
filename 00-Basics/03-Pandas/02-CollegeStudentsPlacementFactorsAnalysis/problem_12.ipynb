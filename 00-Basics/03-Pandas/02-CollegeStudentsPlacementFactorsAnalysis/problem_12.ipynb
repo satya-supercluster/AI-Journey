{
 "cells": [
  {
   "cell_type": "markdown",
   "id": "0606ecd2",
   "metadata": {},
   "source": [
    "### Problem 12: Compute correlation matrix for numerical features and display it."
   ]
  },
  {
   "cell_type": "code",
   "execution_count": null,
   "id": "3ac428ee",
   "metadata": {},
   "outputs": [],
   "source": [
    "# Write your code here\n"
   ]
  }
 ],
 "metadata": {},
 "nbformat": 4,
 "nbformat_minor": 5
}
