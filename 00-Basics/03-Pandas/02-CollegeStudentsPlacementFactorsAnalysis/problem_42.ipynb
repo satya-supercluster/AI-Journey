{
 "cells": [
  {
   "cell_type": "markdown",
   "id": "4b7cb6a8",
   "metadata": {},
   "source": [
    "### Problem 42: Implement a custom metric: F1 score for 'Placed' class and compute it for a test set."
   ]
  },
  {
   "cell_type": "code",
   "execution_count": null,
   "id": "464dfe79",
   "metadata": {},
   "outputs": [],
   "source": [
    "# Write your code here\n"
   ]
  }
 ],
 "metadata": {},
 "nbformat": 4,
 "nbformat_minor": 5
}
