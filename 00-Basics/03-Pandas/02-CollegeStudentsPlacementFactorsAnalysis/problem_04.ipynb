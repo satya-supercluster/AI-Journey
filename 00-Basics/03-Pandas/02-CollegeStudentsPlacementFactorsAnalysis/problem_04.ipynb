{
 "cells": [
  {
   "cell_type": "markdown",
   "id": "3e04dc9a",
   "metadata": {},
   "source": [
    "### Problem 4: Check for missing values in each column and show counts."
   ]
  },
  {
   "cell_type": "code",
   "execution_count": null,
   "id": "10f0790e",
   "metadata": {},
   "outputs": [],
   "source": [
    "# Write your code here\n"
   ]
  }
 ],
 "metadata": {},
 "nbformat": 4,
 "nbformat_minor": 5
}
