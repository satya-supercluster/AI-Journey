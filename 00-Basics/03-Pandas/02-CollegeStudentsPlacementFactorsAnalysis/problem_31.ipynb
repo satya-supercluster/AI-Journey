{
 "cells": [
  {
   "cell_type": "markdown",
   "id": "afffbc4d",
   "metadata": {},
   "source": [
    "### Problem 31: Use Cross-Validation (5-fold) to estimate average accuracy of a RandomForest classifier. (Prepare code cell)"
   ]
  },
  {
   "cell_type": "code",
   "execution_count": null,
   "id": "921a7cc7",
   "metadata": {},
   "outputs": [],
   "source": [
    "# Write your code here\n"
   ]
  }
 ],
 "metadata": {},
 "nbformat": 4,
 "nbformat_minor": 5
}
