{
 "cells": [
  {
   "cell_type": "markdown",
   "id": "5eddca6d",
   "metadata": {},
   "source": [
    "### Problem 14: Identify and remove duplicate rows if any, then report how many were removed."
   ]
  },
  {
   "cell_type": "code",
   "execution_count": null,
   "id": "4b201b57",
   "metadata": {},
   "outputs": [],
   "source": [
    "# Write your code here\n"
   ]
  }
 ],
 "metadata": {},
 "nbformat": 4,
 "nbformat_minor": 5
}
