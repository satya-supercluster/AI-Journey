{
 "cells": [
  {
   "cell_type": "markdown",
   "id": "ca9ae56b",
   "metadata": {},
   "source": [
    "### Problem 35: Feature selection: use Recursive Feature Elimination (RFE) with logistic regression to pick top 5 features."
   ]
  },
  {
   "cell_type": "code",
   "execution_count": null,
   "id": "2ee6bcf5",
   "metadata": {},
   "outputs": [],
   "source": [
    "# Write your code here\n"
   ]
  }
 ],
 "metadata": {},
 "nbformat": 4,
 "nbformat_minor": 5
}
