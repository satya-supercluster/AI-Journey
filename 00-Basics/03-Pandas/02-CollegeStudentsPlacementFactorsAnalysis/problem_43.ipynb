{
 "cells": [
  {
   "cell_type": "markdown",
   "id": "ebbaadeb",
   "metadata": {},
   "source": [
    "### Problem 43: Save the trained best model (pickle) and load it back to show prediction on a sample row."
   ]
  },
  {
   "cell_type": "code",
   "execution_count": null,
   "id": "95c82dcd",
   "metadata": {},
   "outputs": [],
   "source": [
    "# Write your code here\n"
   ]
  }
 ],
 "metadata": {},
 "nbformat": 4,
 "nbformat_minor": 5
}
