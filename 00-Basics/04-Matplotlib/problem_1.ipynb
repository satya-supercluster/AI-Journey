{
 "cells": [
  {
   "cell_type": "markdown",
   "metadata": {},
   "source": [
    "### Problem 1: Plot a simple line graph for a numerical column."
   ]
  },
  {
   "cell_type": "code",
   "execution_count": null,
   "id": "bf2d4677",
   "metadata": {},
   "outputs": [
    {
     "data": {
      "application/vnd.microsoft.datawrangler.viewer.v0+json": {
       "columns": [
        {
         "name": "index",
         "rawType": "int64",
         "type": "integer"
        },
        {
         "name": "Feature1",
         "rawType": "float64",
         "type": "float"
        },
        {
         "name": "Feature2",
         "rawType": "float64",
         "type": "float"
        },
        {
         "name": "Feature3",
         "rawType": "float64",
         "type": "float"
        },
        {
         "name": "Feature4",
         "rawType": "object",
         "type": "unknown"
        },
        {
         "name": "Feature5",
         "rawType": "float64",
         "type": "float"
        },
        {
         "name": "Feature6",
         "rawType": "float64",
         "type": "float"
        },
        {
         "name": "Feature7",
         "rawType": "float64",
         "type": "float"
        },
        {
         "name": "Feature8",
         "rawType": "float64",
         "type": "float"
        },
        {
         "name": "Feature9",
         "rawType": "float64",
         "type": "float"
        },
        {
         "name": "Feature10",
         "rawType": "float64",
         "type": "float"
        },
        {
         "name": "Feature11",
         "rawType": "int64",
         "type": "integer"
        },
        {
         "name": "Feature12",
         "rawType": "object",
         "type": "string"
        },
        {
         "name": "Feature13",
         "rawType": "int64",
         "type": "integer"
        },
        {
         "name": "Feature14",
         "rawType": "object",
         "type": "string"
        },
        {
         "name": "Feature15",
         "rawType": "object",
         "type": "string"
        },
        {
         "name": "Feature16",
         "rawType": "float64",
         "type": "float"
        },
        {
         "name": "Feature17",
         "rawType": "float64",
         "type": "float"
        },
        {
         "name": "Feature18",
         "rawType": "object",
         "type": "string"
        },
        {
         "name": "Feature19",
         "rawType": "object",
         "type": "string"
        },
        {
         "name": "Feature20",
         "rawType": "object",
         "type": "unknown"
        }
       ],
       "ref": "91e65bc9-bbe8-42e2-b372-de0ba8f28485",
       "rows": [
        [
         "0",
         "44.0",
         "0.7974169639365617",
         "-0.9580908251995915",
         null,
         null,
         "158.0",
         "1.4901478185352393",
         "5.166124368721483",
         "2.27794225961709",
         null,
         "5",
         "X",
         "1",
         "Category1",
         "Option4",
         "8.824344611530917",
         "11.71113036294012",
         "Yes",
         "Low",
         null
        ],
        [
         "1",
         "47.0",
         "0.0268381787452141",
         "-0.2441783090045446",
         "D",
         null,
         null,
         "2.1515347860014447",
         "0.450312172608082",
         "-3.3953558584438497",
         null,
         "3",
         "X",
         "0",
         "Category1",
         "Option2",
         null,
         "13.355832080263156",
         "Yes",
         "Low",
         "cat"
        ],
        [
         "2",
         "64.0",
         "0.1999900022820793",
         "-1.0147987443204454",
         "B",
         "0.0",
         "474.0",
         "1.410613113058646",
         "6.786555096381965",
         "-3.070746033071704",
         null,
         "7",
         "Z",
         "0",
         "Category1",
         "Option2",
         null,
         "13.44948362886787",
         "Yes",
         "Medium",
         "dog"
        ],
        [
         "3",
         "67.0",
         "0.4741244931587874",
         "0.4480401503586159",
         "B",
         null,
         "166.0",
         "0.6350908903138338",
         "1.9371581893140288",
         "-0.246269151001595",
         "6.004974702673276",
         "20",
         "X",
         "0",
         "Category1",
         "Option2",
         null,
         "7.687652301732686",
         "Yes",
         "Low",
         "cat"
        ],
        [
         "4",
         null,
         "0.5985164510447496",
         "0.0878392458369933",
         null,
         "0.0",
         null,
         "0.3921043194086299",
         "4.010937335047976",
         "3.215086470728949",
         "2.8911989957122874",
         "3",
         "Z",
         "0",
         "Category1",
         "Option3",
         "11.25937103731184",
         "6.807769674231409",
         "Yes",
         "Low",
         "cat"
        ]
       ],
       "shape": {
        "columns": 20,
        "rows": 5
       }
      },
      "text/html": [
       "<div>\n",
       "<style scoped>\n",
       "    .dataframe tbody tr th:only-of-type {\n",
       "        vertical-align: middle;\n",
       "    }\n",
       "\n",
       "    .dataframe tbody tr th {\n",
       "        vertical-align: top;\n",
       "    }\n",
       "\n",
       "    .dataframe thead th {\n",
       "        text-align: right;\n",
       "    }\n",
       "</style>\n",
       "<table border=\"1\" class=\"dataframe\">\n",
       "  <thead>\n",
       "    <tr style=\"text-align: right;\">\n",
       "      <th></th>\n",
       "      <th>Feature1</th>\n",
       "      <th>Feature2</th>\n",
       "      <th>Feature3</th>\n",
       "      <th>Feature4</th>\n",
       "      <th>Feature5</th>\n",
       "      <th>Feature6</th>\n",
       "      <th>Feature7</th>\n",
       "      <th>Feature8</th>\n",
       "      <th>Feature9</th>\n",
       "      <th>Feature10</th>\n",
       "      <th>Feature11</th>\n",
       "      <th>Feature12</th>\n",
       "      <th>Feature13</th>\n",
       "      <th>Feature14</th>\n",
       "      <th>Feature15</th>\n",
       "      <th>Feature16</th>\n",
       "      <th>Feature17</th>\n",
       "      <th>Feature18</th>\n",
       "      <th>Feature19</th>\n",
       "      <th>Feature20</th>\n",
       "    </tr>\n",
       "  </thead>\n",
       "  <tbody>\n",
       "    <tr>\n",
       "      <th>0</th>\n",
       "      <td>44.0</td>\n",
       "      <td>0.797417</td>\n",
       "      <td>-0.958091</td>\n",
       "      <td>NaN</td>\n",
       "      <td>NaN</td>\n",
       "      <td>158.0</td>\n",
       "      <td>1.490148</td>\n",
       "      <td>5.166124</td>\n",
       "      <td>2.277942</td>\n",
       "      <td>NaN</td>\n",
       "      <td>5</td>\n",
       "      <td>X</td>\n",
       "      <td>1</td>\n",
       "      <td>Category1</td>\n",
       "      <td>Option4</td>\n",
       "      <td>8.824345</td>\n",
       "      <td>11.711130</td>\n",
       "      <td>Yes</td>\n",
       "      <td>Low</td>\n",
       "      <td>NaN</td>\n",
       "    </tr>\n",
       "    <tr>\n",
       "      <th>1</th>\n",
       "      <td>47.0</td>\n",
       "      <td>0.026838</td>\n",
       "      <td>-0.244178</td>\n",
       "      <td>D</td>\n",
       "      <td>NaN</td>\n",
       "      <td>NaN</td>\n",
       "      <td>2.151535</td>\n",
       "      <td>0.450312</td>\n",
       "      <td>-3.395356</td>\n",
       "      <td>NaN</td>\n",
       "      <td>3</td>\n",
       "      <td>X</td>\n",
       "      <td>0</td>\n",
       "      <td>Category1</td>\n",
       "      <td>Option2</td>\n",
       "      <td>NaN</td>\n",
       "      <td>13.355832</td>\n",
       "      <td>Yes</td>\n",
       "      <td>Low</td>\n",
       "      <td>cat</td>\n",
       "    </tr>\n",
       "    <tr>\n",
       "      <th>2</th>\n",
       "      <td>64.0</td>\n",
       "      <td>0.199990</td>\n",
       "      <td>-1.014799</td>\n",
       "      <td>B</td>\n",
       "      <td>0.0</td>\n",
       "      <td>474.0</td>\n",
       "      <td>1.410613</td>\n",
       "      <td>6.786555</td>\n",
       "      <td>-3.070746</td>\n",
       "      <td>NaN</td>\n",
       "      <td>7</td>\n",
       "      <td>Z</td>\n",
       "      <td>0</td>\n",
       "      <td>Category1</td>\n",
       "      <td>Option2</td>\n",
       "      <td>NaN</td>\n",
       "      <td>13.449484</td>\n",
       "      <td>Yes</td>\n",
       "      <td>Medium</td>\n",
       "      <td>dog</td>\n",
       "    </tr>\n",
       "    <tr>\n",
       "      <th>3</th>\n",
       "      <td>67.0</td>\n",
       "      <td>0.474124</td>\n",
       "      <td>0.448040</td>\n",
       "      <td>B</td>\n",
       "      <td>NaN</td>\n",
       "      <td>166.0</td>\n",
       "      <td>0.635091</td>\n",
       "      <td>1.937158</td>\n",
       "      <td>-0.246269</td>\n",
       "      <td>6.004975</td>\n",
       "      <td>20</td>\n",
       "      <td>X</td>\n",
       "      <td>0</td>\n",
       "      <td>Category1</td>\n",
       "      <td>Option2</td>\n",
       "      <td>NaN</td>\n",
       "      <td>7.687652</td>\n",
       "      <td>Yes</td>\n",
       "      <td>Low</td>\n",
       "      <td>cat</td>\n",
       "    </tr>\n",
       "    <tr>\n",
       "      <th>4</th>\n",
       "      <td>NaN</td>\n",
       "      <td>0.598516</td>\n",
       "      <td>0.087839</td>\n",
       "      <td>NaN</td>\n",
       "      <td>0.0</td>\n",
       "      <td>NaN</td>\n",
       "      <td>0.392104</td>\n",
       "      <td>4.010937</td>\n",
       "      <td>3.215086</td>\n",
       "      <td>2.891199</td>\n",
       "      <td>3</td>\n",
       "      <td>Z</td>\n",
       "      <td>0</td>\n",
       "      <td>Category1</td>\n",
       "      <td>Option3</td>\n",
       "      <td>11.259371</td>\n",
       "      <td>6.807770</td>\n",
       "      <td>Yes</td>\n",
       "      <td>Low</td>\n",
       "      <td>cat</td>\n",
       "    </tr>\n",
       "  </tbody>\n",
       "</table>\n",
       "</div>"
      ],
      "text/plain": [
       "   Feature1  Feature2  Feature3 Feature4  Feature5  Feature6  Feature7  \\\n",
       "0      44.0  0.797417 -0.958091      NaN       NaN     158.0  1.490148   \n",
       "1      47.0  0.026838 -0.244178        D       NaN       NaN  2.151535   \n",
       "2      64.0  0.199990 -1.014799        B       0.0     474.0  1.410613   \n",
       "3      67.0  0.474124  0.448040        B       NaN     166.0  0.635091   \n",
       "4       NaN  0.598516  0.087839      NaN       0.0       NaN  0.392104   \n",
       "\n",
       "   Feature8  Feature9  Feature10  Feature11 Feature12  Feature13  Feature14  \\\n",
       "0  5.166124  2.277942        NaN          5         X          1  Category1   \n",
       "1  0.450312 -3.395356        NaN          3         X          0  Category1   \n",
       "2  6.786555 -3.070746        NaN          7         Z          0  Category1   \n",
       "3  1.937158 -0.246269   6.004975         20         X          0  Category1   \n",
       "4  4.010937  3.215086   2.891199          3         Z          0  Category1   \n",
       "\n",
       "  Feature15  Feature16  Feature17 Feature18 Feature19 Feature20  \n",
       "0   Option4   8.824345  11.711130       Yes       Low       NaN  \n",
       "1   Option2        NaN  13.355832       Yes       Low       cat  \n",
       "2   Option2        NaN  13.449484       Yes    Medium       dog  \n",
       "3   Option2        NaN   7.687652       Yes       Low       cat  \n",
       "4   Option3  11.259371   6.807770       Yes       Low       cat  "
      ]
     },
     "execution_count": 1,
     "metadata": {},
     "output_type": "execute_result"
    }
   ],
   "source": [
    "import pandas as pd\n",
    "import matplotlib.pyplot as plt\n",
    "\n",
    "df = pd.read_csv(\"./dataset.csv\",na_values=[\"\"])\n",
    "df.head()\n"
   ]
  },
  {
   "cell_type": "code",
   "execution_count": 16,
   "id": "1be21cd0",
   "metadata": {},
   "outputs": [
    {
     "data": {
      "image/png": "[encoded data removed]",
      "text/plain": [
       "<Figure size 640x480 with 1 Axes>"
      ]
     },
     "metadata": {},
     "output_type": "display_data"
    }
   ],
   "source": [
    "col1_name = df.columns[1]\n",
    "col1_data = df[col1_name]\n",
    "col1_data = pd.to_numeric(col1_data, errors='coerce')\n",
    "\n",
    "plt.plot(col1_data[:100])\n",
    "plt.title(\"Data\")\n",
    "plt.xlabel(\"Rows\")\n",
    "plt.ylabel(col1_name)\n",
    "plt.grid(True)\n",
    "plt.show()\n"
   ]
  }
 ],
 "metadata": {
  "kernelspec": {
   "display_name": "base",
   "language": "python",
   "name": "python3"
  },
  "language_info": {
   "codemirror_mode": {
    "name": "ipython",
    "version": 3
   },
   "file_extension": ".py",
   "mimetype": "text/x-python",
   "name": "python",
   "nbconvert_exporter": "python",
   "pygments_lexer": "ipython3",
   "version": "3.11.7"
  }
 },
 "nbformat": 4,
 "nbformat_minor": 5
}
